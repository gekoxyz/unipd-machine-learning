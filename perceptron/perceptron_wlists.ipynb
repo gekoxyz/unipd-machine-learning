{
 "cells": [
  {
   "cell_type": "markdown",
   "id": "c7a93880",
   "metadata": {},
   "source": [
    "Let's create a dataset with four points\n",
    "\n",
    "We can imagine the column 1 to be the feature x1, the column x2 to be the feature x2..."
   ]
  },
  {
   "cell_type": "code",
   "execution_count": 2,
   "id": "0f4f75ce",
   "metadata": {},
   "outputs": [],
   "source": [
    "# create dataset [(x_0, x_1, x_2, y), ...]\n",
    "dataset = [[1, 3, 1, -1], \n",
    "           [1, 1, 2, 1], \n",
    "           [1, 2.5, 2, -1], \n",
    "           [1, 1, 4, -1]]"
   ]
  },
  {
   "cell_type": "code",
   "execution_count": 3,
   "id": "560be37e",
   "metadata": {},
   "outputs": [],
   "source": [
    "# vector (list) of the parameters of the model [w_0, w_1, w_2]\n",
    "# w = [0.0, 0.0, 0.0]\n",
    "w = [2.1, 1.4, -0.5]\n",
    "\n",
    "# hyper-parameters (iterations). The maximum number of steps i want to dedicate to the problem. In deep learning it's called an epoch\n",
    "num_iter = 1000"
   ]
  },
  {
   "cell_type": "code",
   "execution_count": 4,
   "id": "58b9f7af",
   "metadata": {},
   "outputs": [
    {
     "name": "stdout",
     "output_type": "stream",
     "text": [
      "number of iterations =  1000\n",
      "number of iterations =  999\n",
      "number of iterations =  998\n",
      "number of iterations =  997\n",
      "number of iterations =  996\n",
      "number of iterations =  995\n",
      "number of iterations =  994\n",
      "number of iterations =  993\n",
      "number of iterations =  992\n",
      "number of iterations =  991\n",
      "number of iterations =  990\n",
      "number of iterations =  989\n",
      "number of iterations =  988\n",
      "number of iterations =  987\n",
      "number of iterations =  986\n",
      "number of iterations =  985\n",
      "number of iterations =  984\n",
      "number of iterations =  983\n",
      "number of iterations =  982\n",
      "number of iterations =  981\n",
      "number of iterations =  980\n",
      "number of iterations =  979\n",
      "[8.1, -5.1, -1.5]\n"
     ]
    }
   ],
   "source": [
    "# repeat until no errors are found (or maximum number of iterations)\n",
    "while True:\n",
    "    \n",
    "    print(\"number of iterations = \", num_iter)\n",
    "        \n",
    "    # number of errors\n",
    "    num_errors = 0\n",
    "    \n",
    "    # for each element in the dataset\n",
    "    for elem in dataset:\n",
    "\n",
    "        # extract the true label\n",
    "        y = elem[3]\n",
    "\n",
    "        # get coordinates\n",
    "        x = elem[:3]\n",
    "\n",
    "        # compute output h(x) = \\sum_i w_i * x_i\n",
    "        output = (w[0] * x[0]) + (w[1] * x[1]) + (w[2] * x[2])\n",
    "\n",
    "        # compare output of h(x) with f(x)\n",
    "        if (output >= 0 and y < 0) or (output < 0 and y > 0):\n",
    "            # update parameters\n",
    "            w[0] = w[0] + (x[0] * y)\n",
    "            w[1] = w[1] + (x[1] * y)\n",
    "            w[2] = w[2] + (x[2] * y)\n",
    "            # update number of errors\n",
    "            num_errors += 1\n",
    "            \n",
    "        # print(w)\n",
    "        # print(num_errors)\n",
    "        # print(\"==================\")\n",
    "        \n",
    "    # update iterations\n",
    "    num_iter -= 1\n",
    "\n",
    "    # exit while loop if\n",
    "    if (num_errors == 0) or (num_iter == 0):\n",
    "        break\n",
    "\n",
    "print(w)"
   ]
  },
  {
   "cell_type": "code",
   "execution_count": null,
   "id": "d3a8520c",
   "metadata": {},
   "outputs": [],
   "source": []
  }
 ],
 "metadata": {
  "kernelspec": {
   "display_name": "Python 3 (ipykernel)",
   "language": "python",
   "name": "python3"
  },
  "language_info": {
   "codemirror_mode": {
    "name": "ipython",
    "version": 3
   },
   "file_extension": ".py",
   "mimetype": "text/x-python",
   "name": "python",
   "nbconvert_exporter": "python",
   "pygments_lexer": "ipython3",
   "version": "3.9.6"
  }
 },
 "nbformat": 4,
 "nbformat_minor": 5
}
