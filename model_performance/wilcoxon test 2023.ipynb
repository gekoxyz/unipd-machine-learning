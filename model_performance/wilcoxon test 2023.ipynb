{
 "cells": [
  {
   "cell_type": "code",
   "execution_count": 1,
   "id": "5ecd7235",
   "metadata": {},
   "outputs": [
    {
     "name": "stdout",
     "output_type": "stream",
     "text": [
      "  Model  Performance\n",
      "0    M1        0.511\n",
      "1    M1        0.711\n",
      "2    M1        0.611\n",
      "3    M1        0.811\n",
      "4    M2        0.525\n",
      "5    M2        0.655\n",
      "6    M2        0.825\n",
      "7    M2        0.925\n"
     ]
    }
   ],
   "source": [
    "import pandas as pd\n",
    "from scipy.stats import wilcoxon\n",
    "import seaborn as sns\n",
    "\n",
    "# the pandas dataframe transforms the dictionary data in a table\n",
    "dat = pd.DataFrame({\n",
    "  'Model': ['M1', 'M1', 'M1', 'M1', 'M2', 'M2', 'M2', 'M2'],\n",
    "  'Performance': [0.511, 0.711, 0.611, 0.811, 0.525, 0.655, 0.825, 0.925]\n",
    "})\n",
    "\n",
    "print(dat)"
   ]
  },
  {
   "cell_type": "code",
   "execution_count": 2,
   "id": "73f4d150",
   "metadata": {},
   "outputs": [],
   "source": [
    "# perform Wilcoxon signed-rank test\n",
    "wilcoxon_stat, wilcoxon_pval = wilcoxon(dat[dat['Model'] == 'M1']['Performance'], # vector of values for the first model\n",
    "                                        dat[dat['Model'] == 'M2']['Performance'], # vector of values for the second model\n",
    "                                        alternative = 'two-sided', \n",
    "                                        zero_method = 'wilcox', \n",
    "                                        correction=False)"
   ]
  },
  {
   "cell_type": "code",
   "execution_count": 3,
   "id": "16755187",
   "metadata": {},
   "outputs": [
    {
     "name": "stdout",
     "output_type": "stream",
     "text": [
      "Wilcoxon Signed-Rank Test:\n",
      "p-value: 0.375\n"
     ]
    },
    {
     "data": {
      "text/plain": [
       "<Axes: xlabel='Model', ylabel='Performance'>"
      ]
     },
     "execution_count": 3,
     "metadata": {},
     "output_type": "execute_result"
    },
    {
     "data": {
      "image/png": "[encoded data removed]",
      "text/plain": [
       "<Figure size 640x480 with 1 Axes>"
      ]
     },
     "metadata": {},
     "output_type": "display_data"
    }
   ],
   "source": [
    "# display test results\n",
    "print(\"Wilcoxon Signed-Rank Test:\")\n",
    "#print(f\"Statistic: {wilcoxon_stat}\")\n",
    "print(f\"p-value: {wilcoxon_pval}\")\n",
    "\n",
    "# plot with statistical results\n",
    "sns.boxplot(data=dat, x='Model', y='Performance')\n",
    "sns.stripplot(data=dat, x='Model', y='Performance', color='black', size=5)\n"
   ]
  },
  {
   "cell_type": "code",
   "execution_count": 4,
   "id": "f88a1b0e",
   "metadata": {},
   "outputs": [
    {
     "name": "stdout",
     "output_type": "stream",
     "text": [
      "   Model  Performance\n",
      "0     M1     0.602974\n",
      "1     M1    -0.173040\n",
      "2     M1     0.409491\n",
      "3     M1    -0.681585\n",
      "4     M1    -0.757559\n",
      "5     M1    -0.974927\n",
      "6     M1     0.896555\n",
      "7     M1    -3.062651\n",
      "8     M1    -0.626332\n",
      "9     M1    -1.745077\n",
      "10    M2    -0.605327\n",
      "11    M2     0.796939\n",
      "12    M2     1.161555\n",
      "13    M2     0.697904\n",
      "14    M2     0.745885\n",
      "15    M2     0.251201\n",
      "16    M2     3.787442\n",
      "17    M2     0.677639\n",
      "18    M2     0.761772\n",
      "19    M2    -0.571592\n"
     ]
    }
   ],
   "source": [
    "import numpy as np\n",
    "import pandas as pd\n",
    "from scipy.stats import wilcoxon\n",
    "import seaborn as sns\n",
    "\n",
    "samples = 10\n",
    "\n",
    "perf = pd.DataFrame({\n",
    "  'Model': ['M1'] * samples + ['M2'] * samples,\n",
    "  'Performance': list(np.random.normal(size=samples)) + list(np.random.normal(size=samples) + 1)\n",
    "})\n",
    "\n",
    "print(perf)"
   ]
  },
  {
   "cell_type": "code",
   "execution_count": 5,
   "id": "6b2cf9ad",
   "metadata": {},
   "outputs": [],
   "source": [
    "# perform Wilcoxon signed-rank test\n",
    "wilcoxon_stat, wilcoxon_pval = wilcoxon(perf[perf['Model'] == 'M1']['Performance'], \n",
    "                                        perf[perf['Model'] == 'M2']['Performance'], \n",
    "                                        alternative = 'two-sided', \n",
    "                                        zero_method = 'wilcox', \n",
    "                                        correction=False)"
   ]
  },
  {
   "cell_type": "code",
   "execution_count": 6,
   "id": "606f3563",
   "metadata": {},
   "outputs": [
    {
     "name": "stdout",
     "output_type": "stream",
     "text": [
      "Wilcoxon Signed-Rank Test:\n",
      "Statistic: 4.0\n",
      "p-value: 0.013671875\n",
      "Mean Performance for M1: -0.6112152109558987\n",
      "Mean Performance for M2: 0.7703418493875437\n"
     ]
    },
    {
     "data": {
      "text/plain": [
       "<Axes: xlabel='Model', ylabel='Performance'>"
      ]
     },
     "execution_count": 6,
     "metadata": {},
     "output_type": "execute_result"
    },
    {
     "data": {
      "image/png": "[encoded data removed]",
      "text/plain": [
       "<Figure size 640x480 with 1 Axes>"
      ]
     },
     "metadata": {},
     "output_type": "display_data"
    }
   ],
   "source": [
    "# display test results\n",
    "print(\"Wilcoxon Signed-Rank Test:\")\n",
    "print(f\"Statistic: {wilcoxon_stat}\")\n",
    "print(f\"p-value: {wilcoxon_pval}\")\n",
    "\n",
    "# calculate means\n",
    "mean_m1 = perf[perf['Model'] == 'M1']['Performance'].mean()\n",
    "mean_m2 = perf[perf['Model'] == 'M2']['Performance'].mean()\n",
    "\n",
    "print(f\"Mean Performance for M1: {mean_m1}\")\n",
    "print(f\"Mean Performance for M2: {mean_m2}\")\n",
    "\n",
    "# plot with statistical results\n",
    "sns.boxplot(data=perf, x='Model', y='Performance')\n",
    "sns.stripplot(data=perf, x='Model', y='Performance', color='black', size=5)\n"
   ]
  }
 ],
 "metadata": {
  "kernelspec": {
   "display_name": "Python 3 (ipykernel)",
   "language": "python",
   "name": "python3"
  },
  "language_info": {
   "codemirror_mode": {
    "name": "ipython",
    "version": 3
   },
   "file_extension": ".py",
   "mimetype": "text/x-python",
   "name": "python",
   "nbconvert_exporter": "python",
   "pygments_lexer": "ipython3",
   "version": "3.12.3"
  }
 },
 "nbformat": 4,
 "nbformat_minor": 5
}
