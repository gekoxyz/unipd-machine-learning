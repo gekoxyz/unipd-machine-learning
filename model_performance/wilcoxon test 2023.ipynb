{
 "cells": [
  {
   "cell_type": "code",
   "execution_count": 8,
   "id": "5ecd7235",
   "metadata": {},
   "outputs": [
    {
     "name": "stdout",
     "output_type": "stream",
     "text": [
      "  Model  Performance\n",
      "0    M1        0.511\n",
      "1    M1        0.711\n",
      "2    M1        0.611\n",
      "3    M1        0.811\n",
      "4    M2        0.525\n",
      "5    M2        0.655\n",
      "6    M2        0.825\n",
      "7    M2        0.925\n"
     ]
    }
   ],
   "source": [
    "import pandas as pd\n",
    "from scipy.stats import wilcoxon\n",
    "import seaborn as sns\n",
    "\n",
    "# the pandas dataframe transforms the dictionary data in a table\n",
    "dat = pd.DataFrame({\n",
    "  'Model': ['M1', 'M1', 'M1', 'M1', 'M2', 'M2', 'M2', 'M2'],\n",
    "  'Performance': [0.511, 0.711, 0.611, 0.811, 0.525, 0.655, 0.825, 0.925]\n",
    "})\n",
    "\n",
    "print(dat)"
   ]
  },
  {
   "cell_type": "code",
   "execution_count": 9,
   "id": "73f4d150",
   "metadata": {},
   "outputs": [],
   "source": [
    "# perform Wilcoxon signed-rank test\n",
    "wilcoxon_stat, wilcoxon_pval = wilcoxon(dat[dat['Model'] == 'M1']['Performance'], # vector of values for the first model\n",
    "                                        dat[dat['Model'] == 'M2']['Performance'], # vector of values for the second model\n",
    "                                        alternative = 'two-sided', \n",
    "                                        zero_method = 'wilcox', \n",
    "                                        correction=False)"
   ]
  },
  {
   "cell_type": "code",
   "execution_count": 10,
   "id": "16755187",
   "metadata": {},
   "outputs": [
    {
     "name": "stdout",
     "output_type": "stream",
     "text": [
      "Wilcoxon Signed-Rank Test:\n",
      "p-value: 0.375\n"
     ]
    },
    {
     "data": {
      "text/plain": [
       "<Axes: xlabel='Model', ylabel='Performance'>"
      ]
     },
     "execution_count": 10,
     "metadata": {},
     "output_type": "execute_result"
    },
    {
     "data": {
      "image/png": "[encoded data removed]",
      "text/plain": [
       "<Figure size 640x480 with 1 Axes>"
      ]
     },
     "metadata": {},
     "output_type": "display_data"
    }
   ],
   "source": [
    "# display test results\n",
    "print(\"Wilcoxon Signed-Rank Test:\")\n",
    "#print(f\"Statistic: {wilcoxon_stat}\")\n",
    "print(f\"p-value: {wilcoxon_pval}\")\n",
    "\n",
    "# plot with statistical results\n",
    "sns.boxplot(data=dat, x='Model', y='Performance')\n",
    "sns.stripplot(data=dat, x='Model', y='Performance', color='black', size=5)\n"
   ]
  },
  {
   "cell_type": "code",
   "execution_count": 11,
   "id": "f88a1b0e",
   "metadata": {},
   "outputs": [
    {
     "name": "stdout",
     "output_type": "stream",
     "text": [
      "   Model  Performance\n",
      "0     M1    -1.047019\n",
      "1     M1    -0.326276\n",
      "2     M1     0.921876\n",
      "3     M1    -1.612325\n",
      "4     M1    -0.353024\n",
      "5     M1     0.023242\n",
      "6     M1    -0.918235\n",
      "7     M1    -0.548138\n",
      "8     M1    -0.493322\n",
      "9     M1    -0.933502\n",
      "10    M2     0.648705\n",
      "11    M2    -1.785203\n",
      "12    M2     2.509070\n",
      "13    M2     2.528934\n",
      "14    M2     1.829594\n",
      "15    M2     1.959809\n",
      "16    M2     0.598742\n",
      "17    M2     1.197869\n",
      "18    M2     1.841381\n",
      "19    M2     2.322725\n"
     ]
    }
   ],
   "source": [
    "import numpy as np\n",
    "import pandas as pd\n",
    "from scipy.stats import wilcoxon\n",
    "import seaborn as sns\n",
    "\n",
    "samples = 10\n",
    "\n",
    "perf = pd.DataFrame({\n",
    "  'Model': ['M1'] * samples + ['M2'] * samples,\n",
    "  'Performance': list(np.random.normal(size=samples)) + list(np.random.normal(size=samples) + 1)\n",
    "})\n",
    "\n",
    "print(perf)"
   ]
  },
  {
   "cell_type": "code",
   "execution_count": 12,
   "id": "6b2cf9ad",
   "metadata": {},
   "outputs": [],
   "source": [
    "# perform Wilcoxon signed-rank test\n",
    "wilcoxon_stat, wilcoxon_pval = wilcoxon(perf[perf['Model'] == 'M1']['Performance'], \n",
    "                                        perf[perf['Model'] == 'M2']['Performance'], \n",
    "                                        alternative = 'two-sided', \n",
    "                                        zero_method = 'wilcox', \n",
    "                                        correction=False)"
   ]
  },
  {
   "cell_type": "code",
   "execution_count": 13,
   "id": "606f3563",
   "metadata": {},
   "outputs": [
    {
     "name": "stdout",
     "output_type": "stream",
     "text": [
      "Wilcoxon Signed-Rank Test:\n",
      "Statistic: 1.0\n",
      "p-value: 0.00390625\n",
      "Mean Performance for M1: -0.528672233743926\n",
      "Mean Performance for M2: 1.365162553068421\n"
     ]
    },
    {
     "data": {
      "text/plain": [
       "<Axes: xlabel='Model', ylabel='Performance'>"
      ]
     },
     "execution_count": 13,
     "metadata": {},
     "output_type": "execute_result"
    },
    {
     "data": {
      "image/png": "[encoded data removed]",
      "text/plain": [
       "<Figure size 640x480 with 1 Axes>"
      ]
     },
     "metadata": {},
     "output_type": "display_data"
    }
   ],
   "source": [
    "# display test results\n",
    "print(\"Wilcoxon Signed-Rank Test:\")\n",
    "print(f\"Statistic: {wilcoxon_stat}\")\n",
    "print(f\"p-value: {wilcoxon_pval}\")\n",
    "\n",
    "# calculate means\n",
    "mean_m1 = perf[perf['Model'] == 'M1']['Performance'].mean()\n",
    "mean_m2 = perf[perf['Model'] == 'M2']['Performance'].mean()\n",
    "\n",
    "print(f\"Mean Performance for M1: {mean_m1}\")\n",
    "print(f\"Mean Performance for M2: {mean_m2}\")\n",
    "\n",
    "# plot with statistical results\n",
    "sns.boxplot(data=perf, x='Model', y='Performance')\n",
    "sns.stripplot(data=perf, x='Model', y='Performance', color='black', size=5)\n"
   ]
  }
 ],
 "metadata": {
  "kernelspec": {
   "display_name": "Python 3 (ipykernel)",
   "language": "python",
   "name": "python3"
  },
  "language_info": {
   "codemirror_mode": {
    "name": "ipython",
    "version": 3
   },
   "file_extension": ".py",
   "mimetype": "text/x-python",
   "name": "python",
   "nbconvert_exporter": "python",
   "pygments_lexer": "ipython3",
   "version": "3.12.3"
  }
 },
 "nbformat": 4,
 "nbformat_minor": 5
}
