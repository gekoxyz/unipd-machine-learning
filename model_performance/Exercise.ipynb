{
 "cells": [
  {
   "cell_type": "code",
   "execution_count": null,
   "id": "b3510536",
   "metadata": {},
   "outputs": [],
   "source": [
    "from sklearn.linear_model import LogisticRegression\n",
    "from sklearn.tree import DecisionTreeClassifier\n",
    "import seaborn as sns\n",
    "from sklearn.model_selection import train_test_split\n",
    "\n",
    "iris_data = sns.load_dataset('iris')\n",
    "\n",
    "y = iris_data['species']\n",
    "x = iris_data.loc[:, 'sepal_length':'petal_width']\n",
    "\n",
    "#x, y = \n",
    "lr = LogisticRegression(max_iter = 1000)\n",
    "dt = DecisionTreeClassifier(max_depth = 5)\n",
    "\n",
    "x_train, x_test, y_train, y_test = train_test_split(x, y, test_size=0.3)\n",
    "lr.fit(x_train, y_train)\n",
    "dt.fit(x_train, y_train)\n",
    "\n",
    "s1 = lr.score(x_test, y_test)\n",
    "s2 = dt.score(x_test, y_test)\n",
    "\n",
    "print('Model A accuracy: %.2f%%' % (s1*100))\n",
    "print('Model B accuracy: %.2f%%' % (s2*100))"
   ]
  },
  {
   "cell_type": "code",
   "execution_count": null,
   "id": "335fe5a4",
   "metadata": {},
   "outputs": [],
   "source": [
    "from sklearn.preprocessing import LabelEncoder\n",
    "\n",
    "# Map the categorical class labels to numeric classes\n",
    "label_encoder = LabelEncoder()\n",
    "y_encoded = label_encoder.fit_transform(y)\n"
   ]
  },
  {
   "cell_type": "code",
   "execution_count": null,
   "id": "d2861862",
   "metadata": {},
   "outputs": [],
   "source": [
    "y_encoded"
   ]
  },
  {
   "cell_type": "code",
   "execution_count": null,
   "id": "4683f55c",
   "metadata": {},
   "outputs": [],
   "source": []
  },
  {
   "cell_type": "code",
   "execution_count": null,
   "id": "74a0839c",
   "metadata": {},
   "outputs": [],
   "source": [
    "from sklearn.model_selection import StratifiedKFold\n",
    "from sklearn.model_selection import cross_validate\n",
    "\n",
    "k_fold = StratifiedKFold(n_splits=10, shuffle=True, random_state=37)"
   ]
  },
  {
   "cell_type": "code",
   "execution_count": null,
   "id": "f24ac568",
   "metadata": {},
   "outputs": [],
   "source": [
    "k_fold"
   ]
  },
  {
   "cell_type": "code",
   "execution_count": null,
   "id": "4754907d",
   "metadata": {},
   "outputs": [],
   "source": [
    "cv_lr = cross_validate(lr, x, y_encoded, cv = k_fold, scoring = ('accuracy', 'f1_macro'), return_train_score=True)\n",
    "cv_dt = cross_validate(dt, x, y_encoded, cv = k_fold, scoring = ('accuracy', 'f1_macro'), return_train_score=True)"
   ]
  },
  {
   "cell_type": "code",
   "execution_count": null,
   "id": "07a440c4",
   "metadata": {},
   "outputs": [],
   "source": [
    "cv_lr['test_f1_macro']"
   ]
  },
  {
   "cell_type": "code",
   "execution_count": null,
   "id": "b5975fec",
   "metadata": {},
   "outputs": [],
   "source": [
    "cv_dt['test_f1_macro']"
   ]
  },
  {
   "cell_type": "code",
   "execution_count": null,
   "id": "9ee87555",
   "metadata": {},
   "outputs": [],
   "source": [
    "import pandas as pd\n",
    "\n",
    "perf = pd.DataFrame({\n",
    "  'Model': ['LR'] * 10 + ['DT'] * 10,\n",
    "  'Performance': list(cv_lr['test_f1_macro']) + list(cv_dt['test_f1_macro'])\n",
    "})\n",
    "\n",
    "print(perf)"
   ]
  },
  {
   "cell_type": "code",
   "execution_count": null,
   "id": "b0403b80",
   "metadata": {},
   "outputs": [],
   "source": [
    "from scipy.stats import wilcoxon\n",
    "\n",
    "# perform Wilcoxon signed-rank test\n",
    "wilcoxon_stat, wilcoxon_pval = wilcoxon(perf[perf['Model'] == 'LR']['Performance'], \n",
    "                                        perf[perf['Model'] == 'DT']['Performance'], \n",
    "                                        alternative = 'two-sided', \n",
    "                                        zero_method = 'zsplit', \n",
    "                                        correction=False,\n",
    "                                       mode = 'approx')\n"
   ]
  },
  {
   "cell_type": "code",
   "execution_count": null,
   "id": "1f32578a",
   "metadata": {},
   "outputs": [],
   "source": [
    "wilcoxon_pval"
   ]
  },
  {
   "cell_type": "code",
   "execution_count": null,
   "id": "34b7ae65",
   "metadata": {},
   "outputs": [],
   "source": [
    "# display test results\n",
    "print(\"Wilcoxon Signed-Rank Test:\")\n",
    "print(f\"Statistic: {wilcoxon_stat}\")\n",
    "print(f\"p-value: {wilcoxon_pval}\")\n",
    "\n",
    "# calculate means\n",
    "mean_m1 = perf[perf['Model'] == 'M1']['Performance'].mean()\n",
    "mean_m2 = perf[perf['Model'] == 'M2']['Performance'].mean()\n",
    "\n",
    "print(f\"Mean Performance for M1: {mean_m1}\")\n",
    "print(f\"Mean Performance for M2: {mean_m2}\")\n",
    "\n",
    "# plot with statistical results\n",
    "sns.boxplot(data=perf, x='Model', y='Performance')\n",
    "sns.stripplot(data=perf, x='Model', y='Performance', color='black', size=5)\n"
   ]
  },
  {
   "cell_type": "code",
   "execution_count": null,
   "id": "d1d3ba0c",
   "metadata": {},
   "outputs": [],
   "source": []
  },
  {
   "cell_type": "code",
   "execution_count": null,
   "id": "ccb905e0",
   "metadata": {},
   "outputs": [],
   "source": []
  },
  {
   "cell_type": "code",
   "execution_count": null,
   "id": "4e7b1196",
   "metadata": {},
   "outputs": [],
   "source": [
    "import statsmodels.api as sm\n",
    "from statsmodels.formula.api import ols\n",
    "from statsmodels.stats.multicomp import pairwise_tukeyhsd\n",
    "\n",
    "# Create your data\n",
    "sample1 = [1, 2, 3, 4, 5]\n",
    "sample2 = [2, 4, 6, 8, 10]\n",
    "sample3 = [3, 6, 9, 12, 15]\n",
    "\n",
    "# Combine the samples and create corresponding group labels\n",
    "data = sample1 + sample2 + sample3\n",
    "groups = ['Sample 1'] * len(sample1) + ['Sample 2'] * len(sample2) + ['Sample 3'] * len(sample3)\n",
    "\n",
    "# Perform one-way ANOVA to test for overall differences\n",
    "model = ols('data ~ groups', data={'data': data, 'groups': groups}).fit()\n",
    "anova_table = sm.stats.anova_lm(model)\n",
    "\n",
    "# Perform Tukey's test\n",
    "tukey_results = pairwise_tukeyhsd(data, groups)\n",
    "\n",
    "# Print the ANOVA table\n",
    "print(\"ANOVA results:\")\n",
    "print(anova_table)\n",
    "\n",
    "# Print the Tukey's test results\n",
    "print(\"\\nTukey's test results:\")\n",
    "print(tukey_results)\n"
   ]
  },
  {
   "cell_type": "code",
   "execution_count": null,
   "id": "44bb6eb2",
   "metadata": {},
   "outputs": [],
   "source": [
    "import matplotlib.pyplot as plt\n",
    "import statsmodels.api as sm\n",
    "from statsmodels.formula.api import ols\n",
    "from statsmodels.stats.multicomp import pairwise_tukeyhsd\n",
    "\n",
    "# Create your data\n",
    "sample1 = [1, 2, 3, 4, 5]\n",
    "sample2 = [2, 4, 6, 8, 10]\n",
    "sample3 = [3, 6, 9, 12, 15]\n",
    "\n",
    "# Combine the samples and create corresponding group labels\n",
    "data = sample1 + sample2 + sample3\n",
    "groups = ['Sample 1'] * len(sample1) + ['Sample 2'] * len(sample2) + ['Sample 3'] * len(sample3)\n",
    "\n",
    "# Perform one-way ANOVA to test for overall differences\n",
    "model = ols('data ~ groups', data={'data': data, 'groups': groups}).fit()\n",
    "anova_table = sm.stats.anova_lm(model)\n",
    "\n",
    "# Perform Tukey's test\n",
    "tukey_results = pairwise_tukeyhsd(data, groups)\n",
    "\n",
    "# Print the ANOVA table\n",
    "print(\"ANOVA results:\")\n",
    "print(anova_table)\n",
    "\n",
    "# Print the Tukey's test results\n",
    "print(\"\\nTukey's test results:\")\n",
    "print(tukey_results)\n",
    "\n",
    "# Create a boxplot\n",
    "plt.figure(figsize=(8, 6))\n",
    "plt.boxplot([sample1, sample2, sample3], labels=['Sample 1', 'Sample 2', 'Sample 3'])\n",
    "plt.xlabel('Groups')\n",
    "plt.ylabel('Values')\n",
    "plt.title('Boxplot of Sample Data')\n",
    "plt.show()\n"
   ]
  },
  {
   "cell_type": "code",
   "execution_count": null,
   "id": "e99a163d",
   "metadata": {},
   "outputs": [],
   "source": []
  }
 ],
 "metadata": {
  "kernelspec": {
   "display_name": "Python 3 (ipykernel)",
   "language": "python",
   "name": "python3"
  },
  "language_info": {
   "codemirror_mode": {
    "name": "ipython",
    "version": 3
   },
   "file_extension": ".py",
   "mimetype": "text/x-python",
   "name": "python",
   "nbconvert_exporter": "python",
   "pygments_lexer": "ipython3",
   "version": "3.9.7"
  }
 },
 "nbformat": 4,
 "nbformat_minor": 5
}
