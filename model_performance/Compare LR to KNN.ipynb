{
 "cells": [
  {
   "cell_type": "code",
   "execution_count": 11,
   "id": "29d51e73",
   "metadata": {},
   "outputs": [
    {
     "name": "stdout",
     "output_type": "stream",
     "text": [
      "Model A accuracy: 94.67%\n",
      "Model B accuracy: 94.67%\n"
     ]
    },
    {
     "name": "stderr",
     "output_type": "stream",
     "text": [
      "/opt/anaconda3/lib/python3.9/site-packages/sklearn/linear_model/_logistic.py:458: ConvergenceWarning: lbfgs failed to converge (status=1):\n",
      "STOP: TOTAL NO. of ITERATIONS REACHED LIMIT.\n",
      "\n",
      "Increase the number of iterations (max_iter) or scale the data as shown in:\n",
      "    https://scikit-learn.org/stable/modules/preprocessing.html\n",
      "Please also refer to the documentation for alternative solver options:\n",
      "    https://scikit-learn.org/stable/modules/linear_model.html#logistic-regression\n",
      "  n_iter_i = _check_optimize_result(\n"
     ]
    }
   ],
   "source": [
    "from sklearn.linear_model import LogisticRegression\n",
    "from sklearn.neighbors import KNeighborsClassifier\n",
    "import seaborn as sns\n",
    "from sklearn.model_selection import train_test_split\n",
    "\n",
    "iris_data = sns.load_dataset('iris')\n",
    "\n",
    "y = iris_data['species']\n",
    "x = iris_data.loc[:, 'sepal_length':'petal_width']\n",
    "\n",
    "#x, y = \n",
    "lr = LogisticRegression(max_iter = 100)\n",
    "kn = KNeighborsClassifier(n_neighbors = 3)\n",
    "\n",
    "x_train, x_test, y_train, y_test = train_test_split(x, y, test_size=0.5)\n",
    "lr.fit(x_train, y_train)\n",
    "kn.fit(x_train, y_train)\n",
    "\n",
    "s1 = lr.score(x_test, y_test)\n",
    "s2 = kn.score(x_test, y_test)\n",
    "\n",
    "print('Model A accuracy: %.2f%%' % (s1*100))\n",
    "print('Model B accuracy: %.2f%%' % (s2*100))"
   ]
  },
  {
   "cell_type": "code",
   "execution_count": 12,
   "id": "fff86864",
   "metadata": {},
   "outputs": [],
   "source": [
    "from sklearn.preprocessing import LabelEncoder\n",
    "\n",
    "# Map the categorical class labels to numeric classes\n",
    "label_encoder = LabelEncoder()\n",
    "y_encoded = label_encoder.fit_transform(y)\n"
   ]
  },
  {
   "cell_type": "code",
   "execution_count": 13,
   "id": "0a3b980f",
   "metadata": {},
   "outputs": [],
   "source": [
    "from sklearn.model_selection import StratifiedKFold\n",
    "from sklearn.model_selection import cross_validate\n",
    "\n",
    "k_fold = StratifiedKFold(n_splits=10, shuffle=True, random_state=37)"
   ]
  },
  {
   "cell_type": "code",
   "execution_count": 14,
   "id": "da9fc2f9",
   "metadata": {},
   "outputs": [
    {
     "name": "stderr",
     "output_type": "stream",
     "text": [
      "/opt/anaconda3/lib/python3.9/site-packages/sklearn/linear_model/_logistic.py:458: ConvergenceWarning: lbfgs failed to converge (status=1):\n",
      "STOP: TOTAL NO. of ITERATIONS REACHED LIMIT.\n",
      "\n",
      "Increase the number of iterations (max_iter) or scale the data as shown in:\n",
      "    https://scikit-learn.org/stable/modules/preprocessing.html\n",
      "Please also refer to the documentation for alternative solver options:\n",
      "    https://scikit-learn.org/stable/modules/linear_model.html#logistic-regression\n",
      "  n_iter_i = _check_optimize_result(\n",
      "/opt/anaconda3/lib/python3.9/site-packages/sklearn/linear_model/_logistic.py:458: ConvergenceWarning: lbfgs failed to converge (status=1):\n",
      "STOP: TOTAL NO. of ITERATIONS REACHED LIMIT.\n",
      "\n",
      "Increase the number of iterations (max_iter) or scale the data as shown in:\n",
      "    https://scikit-learn.org/stable/modules/preprocessing.html\n",
      "Please also refer to the documentation for alternative solver options:\n",
      "    https://scikit-learn.org/stable/modules/linear_model.html#logistic-regression\n",
      "  n_iter_i = _check_optimize_result(\n",
      "/opt/anaconda3/lib/python3.9/site-packages/sklearn/linear_model/_logistic.py:458: ConvergenceWarning: lbfgs failed to converge (status=1):\n",
      "STOP: TOTAL NO. of ITERATIONS REACHED LIMIT.\n",
      "\n",
      "Increase the number of iterations (max_iter) or scale the data as shown in:\n",
      "    https://scikit-learn.org/stable/modules/preprocessing.html\n",
      "Please also refer to the documentation for alternative solver options:\n",
      "    https://scikit-learn.org/stable/modules/linear_model.html#logistic-regression\n",
      "  n_iter_i = _check_optimize_result(\n",
      "/opt/anaconda3/lib/python3.9/site-packages/sklearn/linear_model/_logistic.py:458: ConvergenceWarning: lbfgs failed to converge (status=1):\n",
      "STOP: TOTAL NO. of ITERATIONS REACHED LIMIT.\n",
      "\n",
      "Increase the number of iterations (max_iter) or scale the data as shown in:\n",
      "    https://scikit-learn.org/stable/modules/preprocessing.html\n",
      "Please also refer to the documentation for alternative solver options:\n",
      "    https://scikit-learn.org/stable/modules/linear_model.html#logistic-regression\n",
      "  n_iter_i = _check_optimize_result(\n",
      "/opt/anaconda3/lib/python3.9/site-packages/sklearn/linear_model/_logistic.py:458: ConvergenceWarning: lbfgs failed to converge (status=1):\n",
      "STOP: TOTAL NO. of ITERATIONS REACHED LIMIT.\n",
      "\n",
      "Increase the number of iterations (max_iter) or scale the data as shown in:\n",
      "    https://scikit-learn.org/stable/modules/preprocessing.html\n",
      "Please also refer to the documentation for alternative solver options:\n",
      "    https://scikit-learn.org/stable/modules/linear_model.html#logistic-regression\n",
      "  n_iter_i = _check_optimize_result(\n",
      "/opt/anaconda3/lib/python3.9/site-packages/sklearn/linear_model/_logistic.py:458: ConvergenceWarning: lbfgs failed to converge (status=1):\n",
      "STOP: TOTAL NO. of ITERATIONS REACHED LIMIT.\n",
      "\n",
      "Increase the number of iterations (max_iter) or scale the data as shown in:\n",
      "    https://scikit-learn.org/stable/modules/preprocessing.html\n",
      "Please also refer to the documentation for alternative solver options:\n",
      "    https://scikit-learn.org/stable/modules/linear_model.html#logistic-regression\n",
      "  n_iter_i = _check_optimize_result(\n",
      "/opt/anaconda3/lib/python3.9/site-packages/sklearn/linear_model/_logistic.py:458: ConvergenceWarning: lbfgs failed to converge (status=1):\n",
      "STOP: TOTAL NO. of ITERATIONS REACHED LIMIT.\n",
      "\n",
      "Increase the number of iterations (max_iter) or scale the data as shown in:\n",
      "    https://scikit-learn.org/stable/modules/preprocessing.html\n",
      "Please also refer to the documentation for alternative solver options:\n",
      "    https://scikit-learn.org/stable/modules/linear_model.html#logistic-regression\n",
      "  n_iter_i = _check_optimize_result(\n"
     ]
    }
   ],
   "source": [
    "cv_lr = cross_validate(lr, x, y_encoded, cv = k_fold, scoring = ('accuracy', 'f1_macro'), return_train_score=True)\n",
    "cv_kn = cross_validate(kn, x, y_encoded, cv = k_fold, scoring = ('accuracy', 'f1_macro'), return_train_score=True)"
   ]
  },
  {
   "cell_type": "code",
   "execution_count": 15,
   "id": "4813815a",
   "metadata": {},
   "outputs": [
    {
     "data": {
      "text/plain": [
       "array([0.93265993, 1.        , 1.        , 1.        , 1.        ,\n",
       "       1.        , 1.        , 1.        , 0.93265993, 0.73333333])"
      ]
     },
     "execution_count": 15,
     "metadata": {},
     "output_type": "execute_result"
    }
   ],
   "source": [
    "cv_lr['test_f1_macro']"
   ]
  },
  {
   "cell_type": "code",
   "execution_count": 6,
   "id": "4ab7d298",
   "metadata": {},
   "outputs": [
    {
     "data": {
      "text/plain": [
       "array([0.93265993, 1.        , 1.        , 1.        , 1.        ,\n",
       "       1.        , 1.        , 1.        , 0.86666667, 0.7979798 ])"
      ]
     },
     "execution_count": 6,
     "metadata": {},
     "output_type": "execute_result"
    }
   ],
   "source": [
    "cv_kn['test_f1_macro']"
   ]
  },
  {
   "cell_type": "code",
   "execution_count": 7,
   "id": "df4cfcc8",
   "metadata": {},
   "outputs": [
    {
     "name": "stdout",
     "output_type": "stream",
     "text": [
      "   Model  Performance\n",
      "0     LR     0.932660\n",
      "1     LR     1.000000\n",
      "2     LR     1.000000\n",
      "3     LR     1.000000\n",
      "4     LR     1.000000\n",
      "5     LR     1.000000\n",
      "6     LR     1.000000\n",
      "7     LR     1.000000\n",
      "8     LR     0.932660\n",
      "9     LR     0.733333\n",
      "10    KN     0.932660\n",
      "11    KN     1.000000\n",
      "12    KN     1.000000\n",
      "13    KN     1.000000\n",
      "14    KN     1.000000\n",
      "15    KN     1.000000\n",
      "16    KN     1.000000\n",
      "17    KN     1.000000\n",
      "18    KN     0.866667\n",
      "19    KN     0.797980\n"
     ]
    }
   ],
   "source": [
    "import pandas as pd\n",
    "\n",
    "perf = pd.DataFrame({\n",
    "  'Model': ['LR'] * 10 + ['KN'] * 10,\n",
    "  'Performance': list(cv_lr['test_f1_macro']) + list(cv_kn['test_f1_macro'])\n",
    "})\n",
    "\n",
    "print(perf)"
   ]
  },
  {
   "cell_type": "code",
   "execution_count": 8,
   "id": "5ec24ab6",
   "metadata": {},
   "outputs": [],
   "source": [
    "from scipy.stats import wilcoxon\n",
    "\n",
    "# perform Wilcoxon signed-rank test\n",
    "wilcoxon_stat, wilcoxon_pval = wilcoxon(perf[perf['Model'] == 'LR']['Performance'], \n",
    "                                        perf[perf['Model'] == 'KN']['Performance'], \n",
    "                                        alternative = 'two-sided', \n",
    "                                        zero_method = 'zsplit', \n",
    "                                        correction=False,\n",
    "                                       mode = 'approx')\n"
   ]
  },
  {
   "cell_type": "code",
   "execution_count": 9,
   "id": "ffec7a82",
   "metadata": {},
   "outputs": [
    {
     "data": {
      "text/plain": [
       "0.95693920783498"
      ]
     },
     "execution_count": 9,
     "metadata": {},
     "output_type": "execute_result"
    }
   ],
   "source": [
    "wilcoxon_pval"
   ]
  },
  {
   "cell_type": "code",
   "execution_count": 10,
   "id": "bac5b8ce",
   "metadata": {},
   "outputs": [
    {
     "name": "stdout",
     "output_type": "stream",
     "text": [
      "Wilcoxon Signed-Rank Test:\n",
      "Statistic: 27.0\n",
      "p-value: 0.95693920783498\n",
      "Mean Performance for M1: nan\n",
      "Mean Performance for M2: nan\n"
     ]
    },
    {
     "data": {
      "text/plain": [
       "<AxesSubplot:xlabel='Model', ylabel='Performance'>"
      ]
     },
     "execution_count": 10,
     "metadata": {},
     "output_type": "execute_result"
    },
    {
     "data": {
      "image/png": "[encoded data removed]",
      "text/plain": [
       "<Figure size 432x288 with 1 Axes>"
      ]
     },
     "metadata": {
      "needs_background": "light"
     },
     "output_type": "display_data"
    }
   ],
   "source": [
    "# display test results\n",
    "print(\"Wilcoxon Signed-Rank Test:\")\n",
    "print(f\"Statistic: {wilcoxon_stat}\")\n",
    "print(f\"p-value: {wilcoxon_pval}\")\n",
    "\n",
    "# calculate means\n",
    "mean_m1 = perf[perf['Model'] == 'M1']['Performance'].mean()\n",
    "mean_m2 = perf[perf['Model'] == 'M2']['Performance'].mean()\n",
    "\n",
    "print(f\"Mean Performance for M1: {mean_m1}\")\n",
    "print(f\"Mean Performance for M2: {mean_m2}\")\n",
    "\n",
    "# plot with statistical results\n",
    "sns.boxplot(data=perf, x='Model', y='Performance')\n",
    "sns.stripplot(data=perf, x='Model', y='Performance', color='black', size=5)\n"
   ]
  },
  {
   "cell_type": "code",
   "execution_count": null,
   "id": "987ca31c",
   "metadata": {},
   "outputs": [],
   "source": []
  },
  {
   "cell_type": "code",
   "execution_count": null,
   "id": "ec1ad68b",
   "metadata": {},
   "outputs": [],
   "source": []
  }
 ],
 "metadata": {
  "kernelspec": {
   "display_name": "Python 3 (ipykernel)",
   "language": "python",
   "name": "python3"
  },
  "language_info": {
   "codemirror_mode": {
    "name": "ipython",
    "version": 3
   },
   "file_extension": ".py",
   "mimetype": "text/x-python",
   "name": "python",
   "nbconvert_exporter": "python",
   "pygments_lexer": "ipython3",
   "version": "3.9.7"
  }
 },
 "nbformat": 4,
 "nbformat_minor": 5
}
