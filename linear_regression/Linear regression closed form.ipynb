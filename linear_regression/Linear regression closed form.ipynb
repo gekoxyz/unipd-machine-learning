{
 "cells": [
  {
   "cell_type": "code",
   "execution_count": 112,
   "id": "d25702b9",
   "metadata": {},
   "outputs": [
    {
     "data": {
      "text/plain": [
       "[<matplotlib.lines.Line2D at 0x177252e70>]"
      ]
     },
     "execution_count": 112,
     "metadata": {},
     "output_type": "execute_result"
    },
    {
     "data": {
      "image/png": "[encoded data removed]",
      "text/plain": [
       "<Figure size 640x480 with 1 Axes>"
      ]
     },
     "metadata": {},
     "output_type": "display_data"
    }
   ],
   "source": [
    "import numpy as np\n",
    "import matplotlib.pyplot as plt\n",
    "import statsmodels.api as sm\n",
    "from sklearn.linear_model import LinearRegression\n",
    "\n",
    "N = 100\n",
    "\n",
    "coeff = 5\n",
    "\n",
    "# generate sample data\n",
    "X = coeff * np.random.rand(N)\n",
    "\n",
    "# oracle (single linear)\n",
    "y = 1.2 * X + 1 + 2 * np.random.randn(N)\n",
    "\n",
    "plt.plot(X, y, '.')"
   ]
  },
  {
   "cell_type": "code",
   "execution_count": 113,
   "id": "7100bd85",
   "metadata": {},
   "outputs": [
    {
     "data": {
      "text/plain": [
       "array([[1.        , 4.13646242],\n",
       "       [1.        , 0.33993187],\n",
       "       [1.        , 2.45989136],\n",
       "       [1.        , 4.28392875],\n",
       "       [1.        , 4.32498556],\n",
       "       [1.        , 3.1734224 ],\n",
       "       [1.        , 2.3486503 ],\n",
       "       [1.        , 4.06872114],\n",
       "       [1.        , 4.12661777],\n",
       "       [1.        , 0.74327325],\n",
       "       [1.        , 0.43664666],\n",
       "       [1.        , 0.729183  ],\n",
       "       [1.        , 2.26446609],\n",
       "       [1.        , 4.4290295 ],\n",
       "       [1.        , 1.72457562],\n",
       "       [1.        , 0.50343994],\n",
       "       [1.        , 3.00006629],\n",
       "       [1.        , 4.18839657],\n",
       "       [1.        , 3.03943961],\n",
       "       [1.        , 3.47992144],\n",
       "       [1.        , 3.62592418],\n",
       "       [1.        , 2.02871181],\n",
       "       [1.        , 4.78300658],\n",
       "       [1.        , 2.67045638],\n",
       "       [1.        , 3.99845753],\n",
       "       [1.        , 4.21076326],\n",
       "       [1.        , 0.40797406],\n",
       "       [1.        , 0.39921301],\n",
       "       [1.        , 0.009254  ],\n",
       "       [1.        , 0.27223086],\n",
       "       [1.        , 0.60472151],\n",
       "       [1.        , 0.68838053],\n",
       "       [1.        , 2.15112969],\n",
       "       [1.        , 3.67004633],\n",
       "       [1.        , 4.69050319],\n",
       "       [1.        , 3.90464304],\n",
       "       [1.        , 2.70071241],\n",
       "       [1.        , 1.13285407],\n",
       "       [1.        , 0.04546301],\n",
       "       [1.        , 2.8308533 ],\n",
       "       [1.        , 2.51423571],\n",
       "       [1.        , 2.10432442],\n",
       "       [1.        , 1.85761974],\n",
       "       [1.        , 3.90721979],\n",
       "       [1.        , 4.67590935],\n",
       "       [1.        , 2.87810644],\n",
       "       [1.        , 1.45077353],\n",
       "       [1.        , 0.50461355],\n",
       "       [1.        , 0.80734577],\n",
       "       [1.        , 0.36274833],\n",
       "       [1.        , 1.64949599],\n",
       "       [1.        , 0.74233453],\n",
       "       [1.        , 0.05023185],\n",
       "       [1.        , 2.53616622],\n",
       "       [1.        , 4.73141236],\n",
       "       [1.        , 2.80668577],\n",
       "       [1.        , 1.769797  ],\n",
       "       [1.        , 3.05736225],\n",
       "       [1.        , 1.92023998],\n",
       "       [1.        , 2.57930856],\n",
       "       [1.        , 1.64785075],\n",
       "       [1.        , 1.3049551 ],\n",
       "       [1.        , 3.83491558],\n",
       "       [1.        , 4.82938186],\n",
       "       [1.        , 1.59466444],\n",
       "       [1.        , 0.35598634],\n",
       "       [1.        , 4.91074691],\n",
       "       [1.        , 2.59621046],\n",
       "       [1.        , 3.38437944],\n",
       "       [1.        , 0.74801404],\n",
       "       [1.        , 0.68274746],\n",
       "       [1.        , 2.95956935],\n",
       "       [1.        , 1.46851638],\n",
       "       [1.        , 4.50452871],\n",
       "       [1.        , 3.85563276],\n",
       "       [1.        , 3.43626645],\n",
       "       [1.        , 0.77995714],\n",
       "       [1.        , 0.56537291],\n",
       "       [1.        , 3.49178695],\n",
       "       [1.        , 3.06287972],\n",
       "       [1.        , 4.27387345],\n",
       "       [1.        , 4.69977836],\n",
       "       [1.        , 4.30137398],\n",
       "       [1.        , 3.69330269],\n",
       "       [1.        , 2.70623182],\n",
       "       [1.        , 3.85871284],\n",
       "       [1.        , 1.1712702 ],\n",
       "       [1.        , 3.25402887],\n",
       "       [1.        , 1.40268822],\n",
       "       [1.        , 4.01190727],\n",
       "       [1.        , 4.89578227],\n",
       "       [1.        , 3.09491602],\n",
       "       [1.        , 2.87399404],\n",
       "       [1.        , 2.8675687 ],\n",
       "       [1.        , 3.50651883],\n",
       "       [1.        , 0.85593455],\n",
       "       [1.        , 3.97771048],\n",
       "       [1.        , 2.08608948],\n",
       "       [1.        , 0.52050701],\n",
       "       [1.        , 2.42828188]])"
      ]
     },
     "execution_count": 113,
     "metadata": {},
     "output_type": "execute_result"
    }
   ],
   "source": [
    "X0 = np.ones(N)\n",
    "\n",
    "X_ = np.stack([X0, X], axis = 1)\n",
    "\n",
    "X_"
   ]
  },
  {
   "cell_type": "code",
   "execution_count": 114,
   "id": "b1f222e7",
   "metadata": {},
   "outputs": [
    {
     "data": {
      "text/plain": [
       "array([[100.        , 252.0271131 ],\n",
       "       [252.0271131 , 849.32318582]])"
      ]
     },
     "execution_count": 114,
     "metadata": {},
     "output_type": "execute_result"
    }
   ],
   "source": [
    "np.dot(X_.T, X_)"
   ]
  },
  {
   "cell_type": "code",
   "execution_count": 128,
   "id": "b4393d15",
   "metadata": {},
   "outputs": [
    {
     "data": {
      "text/plain": [
       "array([[ 0.03966084, -0.01176891],\n",
       "       [-0.01176891,  0.0046697 ]])"
      ]
     },
     "execution_count": 128,
     "metadata": {},
     "output_type": "execute_result"
    }
   ],
   "source": [
    "np.linalg.inv(np.dot(X_.T, X_))"
   ]
  },
  {
   "cell_type": "code",
   "execution_count": 116,
   "id": "803cb36a",
   "metadata": {},
   "outputs": [
    {
     "name": "stdout",
     "output_type": "stream",
     "text": [
      "Method 1: matrix formulation\n",
      "[1.17817543 1.04045392]\n"
     ]
    }
   ],
   "source": [
    "import numpy as np\n",
    "import statsmodels.api as sm\n",
    "from sklearn.linear_model import LinearRegression\n",
    "\n",
    "\n",
    "w = np.dot(np.linalg.inv(np.dot(X_.T, X_)), np.dot(X_.T, y))\n",
    "\n",
    "print('Method 1: matrix formulation')\n",
    "print(np.dot(np.linalg.inv(np.dot(X_.T, X_)), np.dot(X_.T, y)))\n"
   ]
  },
  {
   "cell_type": "code",
   "execution_count": 117,
   "id": "5de38c74",
   "metadata": {},
   "outputs": [
    {
     "data": {
      "text/plain": [
       "[<matplotlib.lines.Line2D at 0x177ccbe90>]"
      ]
     },
     "execution_count": 117,
     "metadata": {},
     "output_type": "execute_result"
    },
    {
     "data": {
      "image/png": "[encoded data removed]",
      "text/plain": [
       "<Figure size 640x480 with 1 Axes>"
      ]
     },
     "metadata": {},
     "output_type": "display_data"
    }
   ],
   "source": [
    "import matplotlib.pyplot as plt\n",
    "\n",
    "plt.plot(X, y, '.')\n",
    "plt.plot([0, coeff], [w[0], coeff * w[1] + w[0]])"
   ]
  },
  {
   "cell_type": "code",
   "execution_count": 118,
   "id": "f5fa1763",
   "metadata": {},
   "outputs": [],
   "source": [
    "N = 20"
   ]
  },
  {
   "cell_type": "code",
   "execution_count": 119,
   "id": "dc01edc3",
   "metadata": {},
   "outputs": [],
   "source": [
    "X = np.random.normal(loc=2.5, scale=2.0, size=N)\n"
   ]
  },
  {
   "cell_type": "code",
   "execution_count": 120,
   "id": "fbbfbd06",
   "metadata": {},
   "outputs": [
    {
     "data": {
      "text/plain": [
       "(20,)"
      ]
     },
     "execution_count": 120,
     "metadata": {},
     "output_type": "execute_result"
    }
   ],
   "source": [
    "X.shape"
   ]
  },
  {
   "cell_type": "code",
   "execution_count": 121,
   "id": "990481dd",
   "metadata": {},
   "outputs": [
    {
     "data": {
      "text/plain": [
       "(20, 1)"
      ]
     },
     "execution_count": 121,
     "metadata": {},
     "output_type": "execute_result"
    }
   ],
   "source": [
    "X[:, np.newaxis].shape"
   ]
  },
  {
   "cell_type": "code",
   "execution_count": 122,
   "id": "a6ec79a9",
   "metadata": {},
   "outputs": [],
   "source": [
    "norm_noise = np.random.normal(loc=0, scale=0.1, size=N)\n",
    "\n"
   ]
  },
  {
   "cell_type": "code",
   "execution_count": 123,
   "id": "d6ba880f",
   "metadata": {},
   "outputs": [
    {
     "data": {
      "text/plain": [
       "array([-0.11157851,  0.14535069,  0.09016147,  0.03912551, -0.15220755,\n",
       "       -0.35262512,  0.04074363, -0.11217305, -0.10556096, -0.14055656,\n",
       "       -0.1072927 ,  0.05346204,  0.16566555, -0.18311912, -0.01528516,\n",
       "        0.05809595, -0.00833287,  0.09306976, -0.03741906,  0.25054343])"
      ]
     },
     "execution_count": 123,
     "metadata": {},
     "output_type": "execute_result"
    }
   ],
   "source": [
    "norm_noise"
   ]
  },
  {
   "cell_type": "code",
   "execution_count": 124,
   "id": "46a66baf",
   "metadata": {},
   "outputs": [
    {
     "data": {
      "text/plain": [
       "array([[-0.11157851],\n",
       "       [ 0.14535069],\n",
       "       [ 0.09016147],\n",
       "       [ 0.03912551],\n",
       "       [-0.15220755],\n",
       "       [-0.35262512],\n",
       "       [ 0.04074363],\n",
       "       [-0.11217305],\n",
       "       [-0.10556096],\n",
       "       [-0.14055656],\n",
       "       [-0.1072927 ],\n",
       "       [ 0.05346204],\n",
       "       [ 0.16566555],\n",
       "       [-0.18311912],\n",
       "       [-0.01528516],\n",
       "       [ 0.05809595],\n",
       "       [-0.00833287],\n",
       "       [ 0.09306976],\n",
       "       [-0.03741906],\n",
       "       [ 0.25054343]])"
      ]
     },
     "execution_count": 124,
     "metadata": {},
     "output_type": "execute_result"
    }
   ],
   "source": [
    "norm_noise.reshape(-1, 1)"
   ]
  },
  {
   "cell_type": "code",
   "execution_count": 130,
   "id": "f13a4c8a",
   "metadata": {},
   "outputs": [
    {
     "name": "stdout",
     "output_type": "stream",
     "text": [
      "Method 1: matrix formulation\n",
      "[[ 0.40246988]\n",
      " [-0.13890576]]\n"
     ]
    },
    {
     "data": {
      "text/plain": [
       "[<matplotlib.lines.Line2D at 0x308d98680>]"
      ]
     },
     "execution_count": 130,
     "metadata": {},
     "output_type": "execute_result"
    },
    {
     "data": {
      "image/png": "[encoded data removed]",
      "text/plain": [
       "<Figure size 640x480 with 1 Axes>"
      ]
     },
     "metadata": {},
     "output_type": "display_data"
    }
   ],
   "source": [
    "import numpy as np\n",
    "import matplotlib.pyplot as plt\n",
    "\n",
    "#np.random.seed(101)\n",
    "\n",
    "#x[:, None]               # shape: (3, 1) <- 2d (single column matrix)\n",
    "#x[:, np.newaxis]         # shape: (3, 1) <- a meaningful alias to None\n",
    "#x.reshape(-1, 1)         # shape: (3, 1)\n",
    "\n",
    "N = 100\n",
    "\n",
    "\n",
    "# generate sample data (single linear)\n",
    "#X = 5 * np.random.rand(N, 1)\n",
    "\n",
    "X = np.random.normal(loc=2.5, scale=2.0, size=N)\n",
    "X = X[:, np.newaxis]\n",
    "#y = 2.2 * X + 1 + 0.8 * np.random.randn(N, 1)\n",
    "#y = 2 * X**2 + -15.2 * X + 1 + 0.8 * np.random.randn(N, 1)\n",
    "\n",
    "norm_noise = np.random.normal(loc=0, scale=0.1, size=N)\n",
    "norm_noise = norm_noise.reshape(-1, 1)\n",
    "\n",
    "y = np.sin(X) + norm_noise\n",
    "\n",
    "n, m = X.shape # for generality\n",
    "\n",
    "X0 = np.ones((n, 1))\n",
    "Xnew = np.hstack((X0, X))\n",
    "\n",
    "#X_ = sm.add_constant(X)  # add constant for intercept computation\n",
    "\n",
    "w = np.dot(np.linalg.inv(np.dot(Xnew.T, Xnew)), np.dot(Xnew.T, y))\n",
    "\n",
    "print('Method 1: matrix formulation')\n",
    "print(w)\n",
    "\n",
    "plt.plot(X, y, '.')\n",
    "plt.plot([0, 5], [w[0], 5 * w[1] + w[0]])\n",
    "\n"
   ]
  },
  {
   "cell_type": "code",
   "execution_count": 126,
   "id": "744f8459",
   "metadata": {},
   "outputs": [],
   "source": [
    "E_in = (X * w[1] + w[0] - y)**2"
   ]
  },
  {
   "cell_type": "code",
   "execution_count": 127,
   "id": "53d328ad",
   "metadata": {},
   "outputs": [
    {
     "data": {
      "text/plain": [
       "[<matplotlib.lines.Line2D at 0x308bc4530>]"
      ]
     },
     "execution_count": 127,
     "metadata": {},
     "output_type": "execute_result"
    },
    {
     "data": {
      "image/png": "[encoded data removed]",
      "text/plain": [
       "<Figure size 640x480 with 1 Axes>"
      ]
     },
     "metadata": {},
     "output_type": "display_data"
    }
   ],
   "source": [
    "plt.plot(X, E_in, '.')"
   ]
  }
 ],
 "metadata": {
  "kernelspec": {
   "display_name": "Python 3 (ipykernel)",
   "language": "python",
   "name": "python3"
  },
  "language_info": {
   "codemirror_mode": {
    "name": "ipython",
    "version": 3
   },
   "file_extension": ".py",
   "mimetype": "text/x-python",
   "name": "python",
   "nbconvert_exporter": "python",
   "pygments_lexer": "ipython3",
   "version": "3.12.2"
  }
 },
 "nbformat": 4,
 "nbformat_minor": 5
}
