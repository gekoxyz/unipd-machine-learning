{
 "cells": [
  {
   "cell_type": "markdown",
   "id": "88e49f5c",
   "metadata": {},
   "source": [
    "### Exercise: Classification of types of rice\n",
    "\n",
    "This exercise use the dataset provided at the following [link]\n",
    "(https://archive.ics.uci.edu/dataset/545/rice+cammeo+and+osmancik).\n",
    "\n",
    "You should first install the ucimlrepo (*pip install ucimlrepo*).\n",
    "\n",
    "This example uses the 'Import example' source code."
   ]
  },
  {
   "cell_type": "markdown",
   "id": "b2498aaf",
   "metadata": {},
   "source": [
    "### Check dataset"
   ]
  },
  {
   "cell_type": "code",
   "execution_count": 422,
   "id": "0f31a301",
   "metadata": {},
   "outputs": [
    {
     "data": {
      "text/html": [
       "<div>\n",
       "<style scoped>\n",
       "    .dataframe tbody tr th:only-of-type {\n",
       "        vertical-align: middle;\n",
       "    }\n",
       "\n",
       "    .dataframe tbody tr th {\n",
       "        vertical-align: top;\n",
       "    }\n",
       "\n",
       "    .dataframe thead th {\n",
       "        text-align: right;\n",
       "    }\n",
       "</style>\n",
       "<table border=\"1\" class=\"dataframe\">\n",
       "  <thead>\n",
       "    <tr style=\"text-align: right;\">\n",
       "      <th></th>\n",
       "      <th>Area</th>\n",
       "      <th>Perimeter</th>\n",
       "      <th>Major_Axis_Length</th>\n",
       "      <th>Minor_Axis_Length</th>\n",
       "      <th>Eccentricity</th>\n",
       "      <th>Convex_Area</th>\n",
       "      <th>Extent</th>\n",
       "      <th>Class</th>\n",
       "    </tr>\n",
       "  </thead>\n",
       "  <tbody>\n",
       "    <tr>\n",
       "      <th>0</th>\n",
       "      <td>15231.0</td>\n",
       "      <td>525.578979</td>\n",
       "      <td>229.749878</td>\n",
       "      <td>85.093788</td>\n",
       "      <td>0.928882</td>\n",
       "      <td>15617.0</td>\n",
       "      <td>0.572896</td>\n",
       "      <td>b'Cammeo'</td>\n",
       "    </tr>\n",
       "    <tr>\n",
       "      <th>1</th>\n",
       "      <td>14656.0</td>\n",
       "      <td>494.311005</td>\n",
       "      <td>206.020065</td>\n",
       "      <td>91.730972</td>\n",
       "      <td>0.895405</td>\n",
       "      <td>15072.0</td>\n",
       "      <td>0.615436</td>\n",
       "      <td>b'Cammeo'</td>\n",
       "    </tr>\n",
       "    <tr>\n",
       "      <th>2</th>\n",
       "      <td>14634.0</td>\n",
       "      <td>501.122009</td>\n",
       "      <td>214.106781</td>\n",
       "      <td>87.768288</td>\n",
       "      <td>0.912118</td>\n",
       "      <td>14954.0</td>\n",
       "      <td>0.693259</td>\n",
       "      <td>b'Cammeo'</td>\n",
       "    </tr>\n",
       "    <tr>\n",
       "      <th>3</th>\n",
       "      <td>13176.0</td>\n",
       "      <td>458.342987</td>\n",
       "      <td>193.337387</td>\n",
       "      <td>87.448395</td>\n",
       "      <td>0.891861</td>\n",
       "      <td>13368.0</td>\n",
       "      <td>0.640669</td>\n",
       "      <td>b'Cammeo'</td>\n",
       "    </tr>\n",
       "    <tr>\n",
       "      <th>4</th>\n",
       "      <td>14688.0</td>\n",
       "      <td>507.166992</td>\n",
       "      <td>211.743378</td>\n",
       "      <td>89.312454</td>\n",
       "      <td>0.906691</td>\n",
       "      <td>15262.0</td>\n",
       "      <td>0.646024</td>\n",
       "      <td>b'Cammeo'</td>\n",
       "    </tr>\n",
       "  </tbody>\n",
       "</table>\n",
       "</div>"
      ],
      "text/plain": [
       "      Area   Perimeter  Major_Axis_Length  Minor_Axis_Length  Eccentricity  \\\n",
       "0  15231.0  525.578979         229.749878          85.093788      0.928882   \n",
       "1  14656.0  494.311005         206.020065          91.730972      0.895405   \n",
       "2  14634.0  501.122009         214.106781          87.768288      0.912118   \n",
       "3  13176.0  458.342987         193.337387          87.448395      0.891861   \n",
       "4  14688.0  507.166992         211.743378          89.312454      0.906691   \n",
       "\n",
       "   Convex_Area    Extent      Class  \n",
       "0      15617.0  0.572896  b'Cammeo'  \n",
       "1      15072.0  0.615436  b'Cammeo'  \n",
       "2      14954.0  0.693259  b'Cammeo'  \n",
       "3      13368.0  0.640669  b'Cammeo'  \n",
       "4      15262.0  0.646024  b'Cammeo'  "
      ]
     },
     "execution_count": 422,
     "metadata": {},
     "output_type": "execute_result"
    }
   ],
   "source": [
    "import pandas as pd\n",
    "from scipy.io import arff\n",
    "\n",
    "# code\n",
    "arff_file = arff.loadarff('./Rice_Cammeo_Osmancik.arff')\n",
    "\n",
    "df = pd.DataFrame(arff_file[0])\n",
    "\n",
    "df.head()"
   ]
  },
  {
   "cell_type": "markdown",
   "id": "81d4493d",
   "metadata": {},
   "source": [
    "Check the type of the last column. It is a byte-encoded string. Let's encode it with a standard text encoding scheme, such as UTF-8."
   ]
  },
  {
   "cell_type": "code",
   "execution_count": 423,
   "id": "24e4fe84",
   "metadata": {},
   "outputs": [],
   "source": [
    "df['Class'] = df['Class'].str.decode('utf-8')"
   ]
  },
  {
   "cell_type": "markdown",
   "id": "40afdb47",
   "metadata": {},
   "source": [
    "Build the dataset and the vector of labels."
   ]
  },
  {
   "cell_type": "code",
   "execution_count": 424,
   "id": "283c6c26",
   "metadata": {},
   "outputs": [],
   "source": [
    "X = df.loc[:, df.columns[:-1]]\n",
    "y = df.Class"
   ]
  },
  {
   "cell_type": "markdown",
   "id": "f8441b8c",
   "metadata": {},
   "source": [
    "What if we need to encode labels?"
   ]
  },
  {
   "cell_type": "code",
   "execution_count": 425,
   "id": "d2a85783",
   "metadata": {},
   "outputs": [],
   "source": [
    "from sklearn.preprocessing import LabelEncoder\n",
    "\n",
    "le = LabelEncoder()\n",
    "\n",
    "y = le.fit_transform(y)"
   ]
  },
  {
   "cell_type": "code",
   "execution_count": 426,
   "id": "eb291850",
   "metadata": {},
   "outputs": [
    {
     "name": "stdout",
     "output_type": "stream",
     "text": [
      "[0 0 0 0 0 0 0 0 0 0]\n"
     ]
    }
   ],
   "source": [
    "print(y[:10])"
   ]
  },
  {
   "cell_type": "code",
   "execution_count": 427,
   "id": "95151f6d",
   "metadata": {},
   "outputs": [
    {
     "name": "stdout",
     "output_type": "stream",
     "text": [
      "['Cammeo' 'Cammeo' 'Cammeo' 'Cammeo' 'Cammeo' 'Cammeo' 'Cammeo' 'Cammeo'\n",
      " 'Cammeo' 'Cammeo']\n"
     ]
    }
   ],
   "source": [
    "print(le.inverse_transform(y[:10]))"
   ]
  },
  {
   "cell_type": "markdown",
   "id": "3d5f0bd3",
   "metadata": {},
   "source": [
    "### Simple hold out (training-test only)"
   ]
  },
  {
   "cell_type": "code",
   "execution_count": 428,
   "id": "8ca166b4",
   "metadata": {},
   "outputs": [],
   "source": [
    "from sklearn.linear_model import LogisticRegression\n",
    "from sklearn.linear_model import Perceptron\n",
    "from sklearn.neighbors import KNeighborsClassifier\n",
    "from sklearn.tree import DecisionTreeClassifier\n",
    "from sklearn.svm import SVC\n",
    "from sklearn.ensemble import RandomForestClassifier\n",
    "\n",
    "from sklearn.model_selection import train_test_split\n",
    "\n",
    "import seaborn as sns"
   ]
  },
  {
   "cell_type": "markdown",
   "id": "e144c562",
   "metadata": {},
   "source": [
    "### Step 1: prepare dataset"
   ]
  },
  {
   "cell_type": "code",
   "execution_count": 429,
   "id": "05156574",
   "metadata": {},
   "outputs": [],
   "source": [
    "# train_test proportion\n",
    "test_proportion = 0.2\n",
    "\n",
    "x_train, x_test, y_train, y_test = train_test_split(X, \n",
    "                                                    y, \n",
    "                                                    test_size = test_proportion,\n",
    "                                                    shuffle=True)\n",
    "\n",
    "# do we need to set the random state?"
   ]
  },
  {
   "cell_type": "markdown",
   "id": "4be607ac",
   "metadata": {},
   "source": [
    "### Step 2: create models"
   ]
  },
  {
   "cell_type": "code",
   "execution_count": 430,
   "id": "bfaef5f7",
   "metadata": {},
   "outputs": [],
   "source": [
    "lr = LogisticRegression()\n",
    "per = Perceptron()\n",
    "knn = KNeighborsClassifier()\n",
    "dt = DecisionTreeClassifier()\n",
    "svc = SVC()\n",
    "rf = RandomForestClassifier()"
   ]
  },
  {
   "cell_type": "markdown",
   "id": "94d65752",
   "metadata": {},
   "source": [
    "### Step 3: train the models"
   ]
  },
  {
   "cell_type": "code",
   "execution_count": 431,
   "id": "bd02046e",
   "metadata": {},
   "outputs": [
    {
     "name": "stdout",
     "output_type": "stream",
     "text": [
      "\n"
     ]
    }
   ],
   "source": [
    "lr.fit(x_train, y_train)\n",
    "per.fit(x_train, y_train)\n",
    "knn.fit(x_train, y_train)\n",
    "dt.fit(x_train, y_train)\n",
    "svc.fit(x_train, y_train)\n",
    "rf.fit(x_train, y_train)\n",
    "\n",
    "print(\"\")"
   ]
  },
  {
   "cell_type": "markdown",
   "id": "221dd620",
   "metadata": {},
   "source": [
    "### Step 4: test the models"
   ]
  },
  {
   "cell_type": "code",
   "execution_count": 432,
   "id": "255dde8a",
   "metadata": {},
   "outputs": [],
   "source": [
    "from sklearn.metrics import accuracy_score\n",
    "from sklearn.metrics import precision_score\n",
    "from sklearn.metrics import recall_score\n",
    "from sklearn.metrics import f1_score"
   ]
  },
  {
   "cell_type": "code",
   "execution_count": 433,
   "id": "b8de5f5c",
   "metadata": {},
   "outputs": [],
   "source": [
    "lr_pred = lr.predict(x_test)\n",
    "per_pred = per.predict(x_test)\n",
    "knn_pred = knn.predict(x_test)\n",
    "dt_pred = dt.predict(x_test)\n",
    "svc_pred = svc.predict(x_test)\n",
    "rf_pred = rf.predict(x_test)"
   ]
  },
  {
   "cell_type": "code",
   "execution_count": 434,
   "id": "506b7dc4",
   "metadata": {},
   "outputs": [
    {
     "name": "stdout",
     "output_type": "stream",
     "text": [
      "[0.953810623556582, 0.0, 0.9113636363636364, 0.9181084198385236, 0.9007803790412486, 0.9466357308584686]\n"
     ]
    }
   ],
   "source": [
    "lr_f1 = f1_score(lr_pred, y_test)\n",
    "per_f1 = f1_score(per_pred, y_test)\n",
    "knn_f1 = f1_score(knn_pred, y_test)\n",
    "dt_f1 = f1_score(dt_pred, y_test)\n",
    "svc_f1 = f1_score(svc_pred, y_test)\n",
    "rf_f1 = f1_score(rf_pred, y_test)\n",
    "\n",
    "f1_results = [lr_f1, per_f1, knn_f1, dt_f1, svc_f1, rf_f1]\n",
    "print(f1_results)"
   ]
  },
  {
   "cell_type": "markdown",
   "id": "b512e060",
   "metadata": {},
   "source": [
    "Let's see the results on a plot"
   ]
  },
  {
   "cell_type": "code",
   "execution_count": 435,
   "id": "900a093c",
   "metadata": {},
   "outputs": [
    {
     "data": {
      "text/plain": [
       "<matplotlib.collections.PathCollection at 0x3096b81d0>"
      ]
     },
     "execution_count": 435,
     "metadata": {},
     "output_type": "execute_result"
    },
    {
     "data": {
      "image/png": "[encoded data removed]",
      "text/plain": [
       "<Figure size 640x480 with 1 Axes>"
      ]
     },
     "metadata": {},
     "output_type": "display_data"
    }
   ],
   "source": [
    "import matplotlib.pyplot as plt\n",
    "import numpy as np\n",
    "\n",
    "plt.scatter(range(6), f1_results, c = np.random.rand(6), alpha=0.5)"
   ]
  },
  {
   "cell_type": "code",
   "execution_count": 436,
   "id": "613593f3",
   "metadata": {},
   "outputs": [
    {
     "data": {
      "image/png": "[encoded data removed]",
      "text/plain": [
       "<Figure size 640x480 with 1 Axes>"
      ]
     },
     "metadata": {},
     "output_type": "display_data"
    }
   ],
   "source": [
    "import matplotlib.pyplot as plt\n",
    "fig = plt.figure() #Step 2\n",
    "ax = fig.add_subplot(111) #Step 3\n",
    "ax.scatter([1, 2, 3, 4, 5, 6],\n",
    "           f1_results,\n",
    "          color= 'darkgreen',\n",
    "          marker= '^' )\n",
    "ax.set_xlim(0, 6.5)\n",
    "ax.label_outer\n",
    "#plt.savefig('foo.png' ) #Step 5\n",
    "plt.show() #Step 6"
   ]
  },
  {
   "cell_type": "code",
   "execution_count": 437,
   "id": "481845ee",
   "metadata": {},
   "outputs": [
    {
     "data": {
      "image/png": "[encoded data removed]",
      "text/plain": [
       "<Figure size 640x480 with 1 Axes>"
      ]
     },
     "metadata": {},
     "output_type": "display_data"
    }
   ],
   "source": [
    "import matplotlib.pyplot as plt\n",
    "\n",
    "ticks = [1, 2, 3, 4, 5, 6]\n",
    "labels = [\"lr\", \"per\", \"knn\", \"dt\", \"svc\", \"rf\"]\n",
    "\n",
    "fig = plt.figure() #Step 2\n",
    "ax = fig.add_subplot(111) #Step 3\n",
    "ax.scatter(ticks,\n",
    "           f1_results,\n",
    "          color= 'darkgreen',\n",
    "          marker= '^' )\n",
    "ax.set_ylim(0, 1)\n",
    "ax.set_xlim(0, 6.5)\n",
    "ax.set_xticks(ticks, labels)\n",
    "plt.savefig('foo2.png' ) #Step 5\n",
    "plt.show() #Step 6"
   ]
  },
  {
   "cell_type": "markdown",
   "id": "ece524ba",
   "metadata": {},
   "source": [
    "### \"Simple\" K-fold cross validation (no test)"
   ]
  },
  {
   "cell_type": "code",
   "execution_count": 438,
   "id": "de27a184",
   "metadata": {},
   "outputs": [],
   "source": [
    "from sklearn.model_selection import KFold\n",
    "from sklearn.model_selection import cross_validate\n",
    "\n",
    "num_folds = 10\n",
    "\n",
    "k_fold = KFold(n_splits = num_folds, shuffle = True)\n",
    "\n",
    "# do we need random seed?"
   ]
  },
  {
   "cell_type": "code",
   "execution_count": 439,
   "id": "40af3c16",
   "metadata": {},
   "outputs": [
    {
     "name": "stderr",
     "output_type": "stream",
     "text": [
      "/opt/homebrew/lib/python3.12/site-packages/sklearn/linear_model/_logistic.py:469: ConvergenceWarning: lbfgs failed to converge (status=1):\n",
      "STOP: TOTAL NO. of ITERATIONS REACHED LIMIT.\n",
      "\n",
      "Increase the number of iterations (max_iter) or scale the data as shown in:\n",
      "    https://scikit-learn.org/stable/modules/preprocessing.html\n",
      "Please also refer to the documentation for alternative solver options:\n",
      "    https://scikit-learn.org/stable/modules/linear_model.html#logistic-regression\n",
      "  n_iter_i = _check_optimize_result(\n",
      "/opt/homebrew/lib/python3.12/site-packages/sklearn/linear_model/_logistic.py:469: ConvergenceWarning: lbfgs failed to converge (status=1):\n",
      "STOP: TOTAL NO. of ITERATIONS REACHED LIMIT.\n",
      "\n",
      "Increase the number of iterations (max_iter) or scale the data as shown in:\n",
      "    https://scikit-learn.org/stable/modules/preprocessing.html\n",
      "Please also refer to the documentation for alternative solver options:\n",
      "    https://scikit-learn.org/stable/modules/linear_model.html#logistic-regression\n",
      "  n_iter_i = _check_optimize_result(\n",
      "/opt/homebrew/lib/python3.12/site-packages/sklearn/linear_model/_logistic.py:469: ConvergenceWarning: lbfgs failed to converge (status=1):\n",
      "STOP: TOTAL NO. of ITERATIONS REACHED LIMIT.\n",
      "\n",
      "Increase the number of iterations (max_iter) or scale the data as shown in:\n",
      "    https://scikit-learn.org/stable/modules/preprocessing.html\n",
      "Please also refer to the documentation for alternative solver options:\n",
      "    https://scikit-learn.org/stable/modules/linear_model.html#logistic-regression\n",
      "  n_iter_i = _check_optimize_result(\n",
      "/opt/homebrew/lib/python3.12/site-packages/sklearn/linear_model/_logistic.py:469: ConvergenceWarning: lbfgs failed to converge (status=1):\n",
      "STOP: TOTAL NO. of ITERATIONS REACHED LIMIT.\n",
      "\n",
      "Increase the number of iterations (max_iter) or scale the data as shown in:\n",
      "    https://scikit-learn.org/stable/modules/preprocessing.html\n",
      "Please also refer to the documentation for alternative solver options:\n",
      "    https://scikit-learn.org/stable/modules/linear_model.html#logistic-regression\n",
      "  n_iter_i = _check_optimize_result(\n",
      "/opt/homebrew/lib/python3.12/site-packages/sklearn/linear_model/_logistic.py:469: ConvergenceWarning: lbfgs failed to converge (status=1):\n",
      "STOP: TOTAL NO. of ITERATIONS REACHED LIMIT.\n",
      "\n",
      "Increase the number of iterations (max_iter) or scale the data as shown in:\n",
      "    https://scikit-learn.org/stable/modules/preprocessing.html\n",
      "Please also refer to the documentation for alternative solver options:\n",
      "    https://scikit-learn.org/stable/modules/linear_model.html#logistic-regression\n",
      "  n_iter_i = _check_optimize_result(\n"
     ]
    }
   ],
   "source": [
    "cv_lr = cross_validate(estimator = lr, \n",
    "                       X = X, \n",
    "                       y = y, \n",
    "                       cv = k_fold, \n",
    "                       scoring = ('f1_macro'), \n",
    "                       return_train_score = False)\n",
    "\n",
    "cv_per = cross_validate(estimator = per, X = X, y = y, cv = k_fold, scoring = ('f1_macro'), return_train_score = False)\n",
    "cv_knn = cross_validate(estimator = knn, X = X, y = y, cv = k_fold, scoring = ('f1_macro'), return_train_score = False)\n",
    "cv_dt = cross_validate(estimator = dt, X = X, y = y, cv = k_fold, scoring = ('f1_macro'), return_train_score = False)\n",
    "cv_svc = cross_validate(estimator = svc, X = X, y = y, cv = k_fold, scoring = ('f1_macro'), return_train_score = False)\n",
    "cv_rf = cross_validate(estimator = rf, X = X, y = y, cv = k_fold, scoring = ('f1_macro'), return_train_score = False)"
   ]
  },
  {
   "cell_type": "code",
   "execution_count": 440,
   "id": "f12756f1",
   "metadata": {},
   "outputs": [
    {
     "name": "stdout",
     "output_type": "stream",
     "text": [
      "   Model  Performance\n",
      "0     lr     0.899080\n",
      "1     lr     0.952517\n",
      "2     lr     0.926509\n",
      "3     lr     0.933413\n",
      "4     lr     0.932598\n",
      "5     lr     0.927789\n",
      "6     lr     0.927991\n",
      "7     lr     0.932715\n",
      "8     lr     0.918086\n",
      "9     lr     0.941028\n",
      "10   per     0.286517\n",
      "11   per     0.313514\n",
      "12   per     0.289799\n",
      "13   per     0.789977\n",
      "14   per     0.367110\n",
      "15   per     0.311031\n",
      "16   per     0.316432\n",
      "17   per     0.356419\n",
      "18   per     0.358586\n",
      "19   per     0.369205\n",
      "20   knn     0.880829\n",
      "21   knn     0.890542\n",
      "22   knn     0.864316\n",
      "23   knn     0.902497\n",
      "24   knn     0.896609\n",
      "25   knn     0.887425\n",
      "26   knn     0.895987\n",
      "27   knn     0.871717\n",
      "28   knn     0.894270\n",
      "29   knn     0.889652\n",
      "30    dt     0.875871\n",
      "31    dt     0.853785\n",
      "32    dt     0.869483\n",
      "33    dt     0.885563\n",
      "34    dt     0.918259\n",
      "35    dt     0.893659\n",
      "36    dt     0.865842\n",
      "37    dt     0.888848\n",
      "38    dt     0.889207\n",
      "39    dt     0.890934\n",
      "40   svc     0.872297\n",
      "41   svc     0.883024\n",
      "42   svc     0.868651\n",
      "43   svc     0.879859\n",
      "44   svc     0.869744\n",
      "45   svc     0.888060\n",
      "46   svc     0.846589\n",
      "47   svc     0.884427\n",
      "48   svc     0.878460\n",
      "49   svc     0.881072\n",
      "50    rf     0.940839\n",
      "51    rf     0.923208\n",
      "52    rf     0.925648\n",
      "53    rf     0.929303\n",
      "54    rf     0.889652\n",
      "55    rf     0.909000\n",
      "56    rf     0.911989\n",
      "57    rf     0.908413\n",
      "58    rf     0.938395\n",
      "59    rf     0.915026\n"
     ]
    }
   ],
   "source": [
    "import pandas as pd\n",
    "\n",
    "f1_perf = pd.DataFrame({\n",
    "  'Model': ['lr'] * num_folds + ['per'] * num_folds + ['knn'] * num_folds + ['dt'] * num_folds + ['svc'] * num_folds + ['rf'] * num_folds,\n",
    "  'Performance': list(cv_lr['test_score']) + list(cv_per['test_score']) + list(cv_knn['test_score']) + list(cv_dt['test_score']) + list(cv_svc['test_score'])+ list(cv_rf['test_score'])\n",
    "})\n",
    "\n",
    "# we can see that the variance in the \n",
    "print(f1_perf)"
   ]
  },
  {
   "cell_type": "code",
   "execution_count": 441,
   "id": "493a158e",
   "metadata": {},
   "outputs": [
    {
     "data": {
      "image/png": "[encoded data removed]",
      "text/plain": [
       "<Figure size 640x480 with 1 Axes>"
      ]
     },
     "metadata": {},
     "output_type": "display_data"
    }
   ],
   "source": [
    "fig = plt.figure() #Step 2\n",
    "ax = fig.add_subplot(111) #Step 3\n",
    "sns.boxplot(data = f1_perf, x='Model', y='Performance')\n",
    "sns.stripplot(data = f1_perf, x='Model', y='Performance', color='darkred', size=4, alpha=0.7)\n",
    "\n",
    "#ax.set(ylim = (0.5, 1.0))\n",
    "\n",
    "plt.show()"
   ]
  },
  {
   "cell_type": "code",
   "execution_count": 442,
   "id": "31740712",
   "metadata": {},
   "outputs": [],
   "source": [
    "from scipy.stats import wilcoxon\n",
    "\n",
    "model_1 = \"dt\"\n",
    "model_2 = \"per\"\n",
    "\n",
    "# perform Wilcoxon signed-rank test\n",
    "wilcoxon_stat, wilcoxon_pval = wilcoxon(f1_perf[f1_perf['Model'] == model_1]['Performance'], \n",
    "                                        f1_perf[f1_perf['Model'] == model_2]['Performance'], \n",
    "                                        alternative = 'two-sided', \n",
    "                                        zero_method = 'wilcox', \n",
    "                                        correction = True,\n",
    "                                        mode = 'approx')\n"
   ]
  },
  {
   "cell_type": "code",
   "execution_count": 443,
   "id": "091f86fa",
   "metadata": {},
   "outputs": [
    {
     "name": "stdout",
     "output_type": "stream",
     "text": [
      "Wilcoxon Signed-Rank Test:\n",
      "p-value: 0.005921537024148715\n"
     ]
    }
   ],
   "source": [
    "# display test results\n",
    "print(\"Wilcoxon Signed-Rank Test:\")\n",
    "print(f\"p-value: {wilcoxon_pval}\")\n"
   ]
  }
 ],
 "metadata": {
  "kernelspec": {
   "display_name": "Python 3 (ipykernel)",
   "language": "python",
   "name": "python3"
  },
  "language_info": {
   "codemirror_mode": {
    "name": "ipython",
    "version": 3
   },
   "file_extension": ".py",
   "mimetype": "text/x-python",
   "name": "python",
   "nbconvert_exporter": "python",
   "pygments_lexer": "ipython3",
   "version": "3.12.3"
  }
 },
 "nbformat": 4,
 "nbformat_minor": 5
}
