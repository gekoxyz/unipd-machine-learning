{
 "cells": [
  {
   "cell_type": "code",
   "execution_count": 104,
   "metadata": {},
   "outputs": [
    {
     "name": "stdout",
     "output_type": "stream",
     "text": [
      "The shape of the dataset is (344, 7)\n",
      "There are missing values in the dataset\n",
      "  species     island  bill_length_mm  bill_depth_mm  flipper_length_mm  \\\n",
      "0  Adelie  Torgersen           39.10           18.7              181.0   \n",
      "1  Adelie  Torgersen           39.50           17.4              186.0   \n",
      "2  Adelie  Torgersen           40.30           18.0              195.0   \n",
      "3  Adelie  Torgersen           44.45           17.3              197.0   \n",
      "4  Adelie  Torgersen           36.70           19.3              193.0   \n",
      "\n",
      "   body_mass_g     sex  \n",
      "0       3750.0    Male  \n",
      "1       3800.0  Female  \n",
      "2       3250.0  Female  \n",
      "3       4050.0    Male  \n",
      "4       3450.0  Female  \n",
      "       bill_length_mm  bill_depth_mm  flipper_length_mm  body_mass_g\n",
      "count      344.000000     344.000000         344.000000   344.000000\n",
      "mean        43.925000      17.152035         200.892442  4200.872093\n",
      "std          5.443792       1.969060          14.023826   799.696532\n",
      "min         32.100000      13.100000         172.000000  2700.000000\n",
      "25%         39.275000      15.600000         190.000000  3550.000000\n",
      "50%         44.450000      17.300000         197.000000  4050.000000\n",
      "75%         48.500000      18.700000         213.000000  4750.000000\n",
      "max         59.600000      21.500000         231.000000  6300.000000\n"
     ]
    }
   ],
   "source": [
    "import seaborn as sns\n",
    "import pandas as pd\n",
    "import matplotlib.pyplot as plt\n",
    "import numpy as np\n",
    "\n",
    "df = pd.DataFrame(sns.load_dataset(\"penguins\"))\n",
    "\n",
    "print(f\"The shape of the dataset is {df.shape}\")\n",
    "if df.isnull().any().any():\n",
    "  print(f\"There are missing values in the dataset\")\n",
    "else:\n",
    "  print(f\"There are no missing values in the dataset\")\n",
    "\n",
    "from pandas.api.types import is_numeric_dtype\n",
    "df = df.apply(lambda x: x.fillna(x.median()) if is_numeric_dtype(x) else x.fillna(x.mode().iloc[0]))\n",
    "\n",
    "print(df.head())\n",
    "\n",
    "print(df.describe())"
   ]
  },
  {
   "cell_type": "code",
   "execution_count": 105,
   "metadata": {},
   "outputs": [
    {
     "name": "stdout",
     "output_type": "stream",
     "text": [
      "<bound method NDFrame.head of      bill_length_mm  bill_depth_mm  flipper_length_mm  body_mass_g  \\\n",
      "0             39.10           18.7              181.0       3750.0   \n",
      "1             39.50           17.4              186.0       3800.0   \n",
      "2             40.30           18.0              195.0       3250.0   \n",
      "3             44.45           17.3              197.0       4050.0   \n",
      "4             36.70           19.3              193.0       3450.0   \n",
      "..              ...            ...                ...          ...   \n",
      "339           44.45           17.3              197.0       4050.0   \n",
      "340           46.80           14.3              215.0       4850.0   \n",
      "341           50.40           15.7              222.0       5750.0   \n",
      "342           45.20           14.8              212.0       5200.0   \n",
      "343           49.90           16.1              213.0       5400.0   \n",
      "\n",
      "     species_Adelie  species_Chinstrap  species_Gentoo  island_Biscoe  \\\n",
      "0              True              False           False          False   \n",
      "1              True              False           False          False   \n",
      "2              True              False           False          False   \n",
      "3              True              False           False          False   \n",
      "4              True              False           False          False   \n",
      "..              ...                ...             ...            ...   \n",
      "339           False              False            True           True   \n",
      "340           False              False            True           True   \n",
      "341           False              False            True           True   \n",
      "342           False              False            True           True   \n",
      "343           False              False            True           True   \n",
      "\n",
      "     island_Dream  island_Torgersen  sex  \n",
      "0           False              True    1  \n",
      "1           False              True   -1  \n",
      "2           False              True   -1  \n",
      "3           False              True    1  \n",
      "4           False              True   -1  \n",
      "..            ...               ...  ...  \n",
      "339         False             False    1  \n",
      "340         False             False   -1  \n",
      "341         False             False    1  \n",
      "342         False             False   -1  \n",
      "343         False             False    1  \n",
      "\n",
      "[344 rows x 11 columns]>\n"
     ]
    }
   ],
   "source": [
    "categorical_features = [col for col in df.columns if not is_numeric_dtype(df[col]) and col != \"sex\"]\n",
    "data_with_dummies = pd.get_dummies(df, columns=categorical_features)\n",
    "\n",
    "# as a convention, I prefer to place the column to be predicted as the last one\n",
    "columns = data_with_dummies.columns.tolist()\n",
    "columns.insert(len(columns), columns.pop(columns.index(\"sex\")))\n",
    "data_with_dummies = data_with_dummies.loc[:, columns]\n",
    "\n",
    "df = data_with_dummies\n",
    "\n",
    "df.sex = df.sex.map(lambda x: 1 if x == \"Male\" else -1)\n",
    "\n",
    "print(df.head)\n",
    "\n",
    "X = df.iloc[:, :-1]\n",
    "y = df.sex"
   ]
  },
  {
   "cell_type": "code",
   "execution_count": 106,
   "metadata": {},
   "outputs": [
    {
     "name": "stdout",
     "output_type": "stream",
     "text": [
      "***********\n",
      "[[ 1.  39.1 18.7 ...  0.   0.   1. ]\n",
      " [ 1.  39.5 17.4 ...  0.   0.   1. ]\n",
      " [ 1.  40.3 18.  ...  0.   0.   1. ]\n",
      " ...\n",
      " [ 1.  50.4 15.7 ...  1.   0.   0. ]\n",
      " [ 1.  45.2 14.8 ...  1.   0.   0. ]\n",
      " [ 1.  49.9 16.1 ...  1.   0.   0. ]]\n",
      "***********\n",
      "[ 1 -1 -1  1 -1  1 -1  1  1  1  1  1 -1  1  1 -1 -1  1 -1  1 -1  1 -1  1\n",
      "  1 -1  1 -1 -1  1 -1  1 -1  1 -1  1  1 -1 -1  1 -1  1 -1  1 -1  1  1  1\n",
      " -1  1 -1  1 -1  1 -1  1 -1  1 -1  1 -1  1 -1  1 -1  1 -1  1 -1  1 -1  1\n",
      " -1  1 -1  1 -1  1 -1  1 -1  1 -1  1 -1  1  1 -1  1 -1 -1  1 -1  1 -1  1\n",
      " -1  1 -1  1 -1  1 -1  1 -1  1 -1  1 -1  1 -1  1 -1  1 -1  1 -1  1 -1  1\n",
      " -1  1 -1  1 -1  1 -1  1 -1  1 -1  1 -1  1 -1  1 -1  1 -1  1 -1  1 -1  1\n",
      " -1  1  1 -1 -1  1 -1  1 -1  1  1 -1  1 -1 -1  1 -1  1 -1  1 -1  1 -1  1\n",
      "  1 -1 -1  1 -1  1 -1  1 -1  1 -1  1 -1  1 -1  1 -1  1  1 -1 -1  1 -1  1\n",
      "  1 -1  1 -1 -1  1 -1  1  1 -1 -1  1 -1  1 -1  1 -1  1  1 -1  1 -1 -1  1\n",
      " -1  1  1 -1 -1  1 -1  1  1 -1 -1  1 -1  1 -1  1 -1  1 -1  1 -1  1 -1  1\n",
      "  1 -1 -1  1 -1  1  1  1 -1  1  1 -1 -1  1 -1  1 -1  1 -1  1 -1  1 -1  1\n",
      "  1 -1 -1  1 -1  1 -1  1 -1  1 -1  1 -1  1 -1  1 -1  1 -1  1 -1  1  1  1\n",
      " -1  1 -1  1  1 -1 -1  1 -1  1 -1  1 -1  1 -1  1 -1  1 -1  1 -1  1 -1  1\n",
      " -1  1 -1  1  1 -1 -1  1 -1  1 -1  1  1  1 -1  1 -1  1 -1  1 -1  1 -1  1\n",
      "  1  1 -1  1 -1  1 -1  1]\n",
      "***********\n",
      "# of errors = 0.0\n"
     ]
    },
    {
     "data": {
      "text/plain": [
       "[<matplotlib.lines.Line2D at 0x175699010>]"
      ]
     },
     "execution_count": 106,
     "metadata": {},
     "output_type": "execute_result"
    },
    {
     "data": {
      "image/png": "[encoded data removed]",
      "text/plain": [
       "<Figure size 640x480 with 1 Axes>"
      ]
     },
     "metadata": {},
     "output_type": "display_data"
    }
   ],
   "source": [
    "w = np.random.randn(11) # 10 because i have 10 features\n",
    "\n",
    "eta = 1e-3\n",
    "batch_size = 8\n",
    "max_epochs = 1000\n",
    "errors_epoch = np.zeros(max_epochs + 1)\n",
    "\n",
    "X1 = X.to_numpy()\n",
    "X0 = np.ones(X.shape[0])\n",
    "\n",
    "X = np.column_stack((X0, X1))\n",
    "y = y.to_numpy()\n",
    "X = X.astype(np.float64)\n",
    "\n",
    "print(\"***********\")\n",
    "print(X)\n",
    "print(\"***********\")\n",
    "print(y)\n",
    "print(\"***********\")\n",
    "\n",
    "for epoch in range(max_epochs):\n",
    "\n",
    "  errors_epoch[epoch] = sum((y * np.sign(np.dot(X, w))) < 0)\n",
    "\n",
    "  rand_perm = np.random.permutation(range(y.shape[0]))\n",
    "  X = X[rand_perm, :]\n",
    "  y = y[rand_perm]\n",
    "\n",
    "  for i in range(0, y.shape[0], batch_size):\n",
    "    X_batch = X[i : (i + batch_size), :]\n",
    "    y_batch = y[i : (i + batch_size)]\n",
    "\n",
    "    w = w + eta * np.dot(X_batch.T,(y_batch - np.dot(X_batch, w)))\n",
    "  \n",
    "  errors_epoch[epoch + 1] = sum((y * np.sign(np.dot(X, w))) < 0)\n",
    "\n",
    "print(f\"# of errors = {errors_epoch[-1]}\")\n",
    "plt.plot(range(max_epochs + 1), errors_epoch)"
   ]
  }
 ],
 "metadata": {
  "kernelspec": {
   "display_name": "Python 3",
   "language": "python",
   "name": "python3"
  },
  "language_info": {
   "codemirror_mode": {
    "name": "ipython",
    "version": 3
   },
   "file_extension": ".py",
   "mimetype": "text/x-python",
   "name": "python",
   "nbconvert_exporter": "python",
   "pygments_lexer": "ipython3",
   "version": "3.12.3"
  }
 },
 "nbformat": 4,
 "nbformat_minor": 2
}
