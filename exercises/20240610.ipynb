{
 "cells": [
  {
   "cell_type": "markdown",
   "id": "88e49f5c",
   "metadata": {},
   "source": [
    "### Exercise: Classification of types of rice\n",
    "\n",
    "This exercise use the dataset provided at the following [link]\n",
    "(https://archive.ics.uci.edu/dataset/59/letter+recognition).\n",
    "\n",
    "You should first install the ucimlrepo (*pip install ucimlrepo*).\n",
    "\n",
    "This example uses the 'Import example' source code."
   ]
  },
  {
   "cell_type": "code",
   "execution_count": 1,
   "id": "1c44f682",
   "metadata": {},
   "outputs": [
    {
     "name": "stdout",
     "output_type": "stream",
     "text": [
      "{'uci_id': 59, 'name': 'Letter Recognition', 'repository_url': 'https://archive.ics.uci.edu/dataset/59/letter+recognition', 'data_url': 'https://archive.ics.uci.edu/static/public/59/data.csv', 'abstract': 'Database of character image features; try to identify the letter', 'area': 'Computer Science', 'tasks': ['Classification'], 'characteristics': ['Multivariate'], 'num_instances': 20000, 'num_features': 16, 'feature_types': ['Integer'], 'demographics': [], 'target_col': ['lettr'], 'index_col': None, 'has_missing_values': 'no', 'missing_values_symbol': None, 'year_of_dataset_creation': 1991, 'last_updated': 'Thu Sep 28 2023', 'dataset_doi': '10.24432/C5ZP40', 'creators': ['David Slate'], 'intro_paper': None, 'additional_info': {'summary': 'The objective is to identify each of a large number of black-and-white rectangular pixel displays as one of the 26 capital letters in the English alphabet.  The character images were based on 20 different fonts and each letter within these 20 fonts was randomly distorted to produce a file of 20,000 unique stimuli.  Each stimulus was converted into 16 primitive numerical attributes (statistical moments and edge counts) which were then scaled to fit into a range of integer values from 0 through 15.  We typically train on the first 16000 items and then use the resulting model to predict the letter category for the remaining 4000.  See the article cited above for more details.', 'purpose': None, 'funded_by': None, 'instances_represent': None, 'recommended_data_splits': None, 'sensitive_data': None, 'preprocessing_description': None, 'variable_info': '\\t 1.\\tlettr\\tcapital letter\\t(26 values from A to Z)\\r\\n\\t 2.\\tx-box\\thorizontal position of box\\t(integer)\\r\\n\\t 3.\\ty-box\\tvertical position of box\\t(integer)\\r\\n\\t 4.\\twidth\\twidth of box\\t\\t\\t(integer)\\r\\n\\t 5.\\thigh \\theight of box\\t\\t\\t(integer)\\r\\n\\t 6.\\tonpix\\ttotal # on pixels\\t\\t(integer)\\r\\n\\t 7.\\tx-bar\\tmean x of on pixels in box\\t(integer)\\r\\n\\t 8.\\ty-bar\\tmean y of on pixels in box\\t(integer)\\r\\n\\t 9.\\tx2bar\\tmean x variance\\t\\t\\t(integer)\\r\\n\\t10.\\ty2bar\\tmean y variance\\t\\t\\t(integer)\\r\\n\\t11.\\txybar\\tmean x y correlation\\t\\t(integer)\\r\\n\\t12.\\tx2ybr\\tmean of x * x * y\\t\\t(integer)\\r\\n\\t13.\\txy2br\\tmean of x * y * y\\t\\t(integer)\\r\\n\\t14.\\tx-ege\\tmean edge count left to right\\t(integer)\\r\\n\\t15.\\txegvy\\tcorrelation of x-ege with y\\t(integer)\\r\\n\\t16.\\ty-ege\\tmean edge count bottom to top\\t(integer)\\r\\n\\t17.\\tyegvx\\tcorrelation of y-ege with x\\t(integer)', 'citation': None}}\n",
      "     name     role         type demographic                    description  \\\n",
      "0   lettr   Target  Categorical        None                 capital letter   \n",
      "1   x-box  Feature      Integer        None     horizontal position of box   \n",
      "2   y-box  Feature      Integer        None       vertical position of box   \n",
      "3   width  Feature      Integer        None                   width of box   \n",
      "4    high  Feature      Integer        None                  height of box   \n",
      "5   onpix  Feature      Integer        None              total # on pixels   \n",
      "6   x-bar  Feature      Integer        None     mean x of on pixels in box   \n",
      "7   y-bar  Feature      Integer        None     mean y of on pixels in box   \n",
      "8   x2bar  Feature      Integer        None                mean x variance   \n",
      "9   y2bar  Feature      Integer        None                mean y variance   \n",
      "10  xybar  Feature      Integer        None           mean x y correlation   \n",
      "11  x2ybr  Feature      Integer        None              mean of x * x * y   \n",
      "12  xy2br  Feature      Integer        None              mean of x * y * y   \n",
      "13  x-ege  Feature      Integer        None  mean edge count left to right   \n",
      "14  xegvy  Feature      Integer        None    correlation of x-ege with y   \n",
      "15  y-ege  Feature      Integer        None  mean edge count bottom to top   \n",
      "16  yegvx  Feature      Integer        None    correlation of y-ege with x   \n",
      "\n",
      "   units missing_values  \n",
      "0   None             no  \n",
      "1   None             no  \n",
      "2   None             no  \n",
      "3   None             no  \n",
      "4   None             no  \n",
      "5   None             no  \n",
      "6   None             no  \n",
      "7   None             no  \n",
      "8   None             no  \n",
      "9   None             no  \n",
      "10  None             no  \n",
      "11  None             no  \n",
      "12  None             no  \n",
      "13  None             no  \n",
      "14  None             no  \n",
      "15  None             no  \n",
      "16  None             no  \n"
     ]
    }
   ],
   "source": [
    "from ucimlrepo import fetch_ucirepo \n",
    "  \n",
    "# fetch dataset \n",
    "letter_recognition = fetch_ucirepo(id=59) \n",
    "  \n",
    "# data (as pandas dataframes) \n",
    "X = letter_recognition.data.features \n",
    "y = letter_recognition.data.targets \n",
    "  \n",
    "# metadata \n",
    "print(letter_recognition.metadata) \n",
    "  \n",
    "# variable information \n",
    "print(letter_recognition.variables) \n"
   ]
  },
  {
   "cell_type": "markdown",
   "id": "b2498aaf",
   "metadata": {},
   "source": [
    "### Check dataset"
   ]
  },
  {
   "cell_type": "code",
   "execution_count": 2,
   "id": "73849d56",
   "metadata": {},
   "outputs": [
    {
     "data": {
      "text/html": [
       "<div>\n",
       "<style scoped>\n",
       "    .dataframe tbody tr th:only-of-type {\n",
       "        vertical-align: middle;\n",
       "    }\n",
       "\n",
       "    .dataframe tbody tr th {\n",
       "        vertical-align: top;\n",
       "    }\n",
       "\n",
       "    .dataframe thead th {\n",
       "        text-align: right;\n",
       "    }\n",
       "</style>\n",
       "<table border=\"1\" class=\"dataframe\">\n",
       "  <thead>\n",
       "    <tr style=\"text-align: right;\">\n",
       "      <th></th>\n",
       "      <th>x-box</th>\n",
       "      <th>y-box</th>\n",
       "      <th>width</th>\n",
       "      <th>high</th>\n",
       "      <th>onpix</th>\n",
       "      <th>x-bar</th>\n",
       "      <th>y-bar</th>\n",
       "      <th>x2bar</th>\n",
       "      <th>y2bar</th>\n",
       "      <th>xybar</th>\n",
       "      <th>x2ybr</th>\n",
       "      <th>xy2br</th>\n",
       "      <th>x-ege</th>\n",
       "      <th>xegvy</th>\n",
       "      <th>y-ege</th>\n",
       "      <th>yegvx</th>\n",
       "    </tr>\n",
       "  </thead>\n",
       "  <tbody>\n",
       "    <tr>\n",
       "      <th>0</th>\n",
       "      <td>2</td>\n",
       "      <td>8</td>\n",
       "      <td>3</td>\n",
       "      <td>5</td>\n",
       "      <td>1</td>\n",
       "      <td>8</td>\n",
       "      <td>13</td>\n",
       "      <td>0</td>\n",
       "      <td>6</td>\n",
       "      <td>6</td>\n",
       "      <td>10</td>\n",
       "      <td>8</td>\n",
       "      <td>0</td>\n",
       "      <td>8</td>\n",
       "      <td>0</td>\n",
       "      <td>8</td>\n",
       "    </tr>\n",
       "    <tr>\n",
       "      <th>1</th>\n",
       "      <td>5</td>\n",
       "      <td>12</td>\n",
       "      <td>3</td>\n",
       "      <td>7</td>\n",
       "      <td>2</td>\n",
       "      <td>10</td>\n",
       "      <td>5</td>\n",
       "      <td>5</td>\n",
       "      <td>4</td>\n",
       "      <td>13</td>\n",
       "      <td>3</td>\n",
       "      <td>9</td>\n",
       "      <td>2</td>\n",
       "      <td>8</td>\n",
       "      <td>4</td>\n",
       "      <td>10</td>\n",
       "    </tr>\n",
       "    <tr>\n",
       "      <th>2</th>\n",
       "      <td>4</td>\n",
       "      <td>11</td>\n",
       "      <td>6</td>\n",
       "      <td>8</td>\n",
       "      <td>6</td>\n",
       "      <td>10</td>\n",
       "      <td>6</td>\n",
       "      <td>2</td>\n",
       "      <td>6</td>\n",
       "      <td>10</td>\n",
       "      <td>3</td>\n",
       "      <td>7</td>\n",
       "      <td>3</td>\n",
       "      <td>7</td>\n",
       "      <td>3</td>\n",
       "      <td>9</td>\n",
       "    </tr>\n",
       "    <tr>\n",
       "      <th>3</th>\n",
       "      <td>7</td>\n",
       "      <td>11</td>\n",
       "      <td>6</td>\n",
       "      <td>6</td>\n",
       "      <td>3</td>\n",
       "      <td>5</td>\n",
       "      <td>9</td>\n",
       "      <td>4</td>\n",
       "      <td>6</td>\n",
       "      <td>4</td>\n",
       "      <td>4</td>\n",
       "      <td>10</td>\n",
       "      <td>6</td>\n",
       "      <td>10</td>\n",
       "      <td>2</td>\n",
       "      <td>8</td>\n",
       "    </tr>\n",
       "    <tr>\n",
       "      <th>4</th>\n",
       "      <td>2</td>\n",
       "      <td>1</td>\n",
       "      <td>3</td>\n",
       "      <td>1</td>\n",
       "      <td>1</td>\n",
       "      <td>8</td>\n",
       "      <td>6</td>\n",
       "      <td>6</td>\n",
       "      <td>6</td>\n",
       "      <td>6</td>\n",
       "      <td>5</td>\n",
       "      <td>9</td>\n",
       "      <td>1</td>\n",
       "      <td>7</td>\n",
       "      <td>5</td>\n",
       "      <td>10</td>\n",
       "    </tr>\n",
       "  </tbody>\n",
       "</table>\n",
       "</div>"
      ],
      "text/plain": [
       "   x-box  y-box  width  high  onpix  x-bar  y-bar  x2bar  y2bar  xybar  x2ybr  \\\n",
       "0      2      8      3     5      1      8     13      0      6      6     10   \n",
       "1      5     12      3     7      2     10      5      5      4     13      3   \n",
       "2      4     11      6     8      6     10      6      2      6     10      3   \n",
       "3      7     11      6     6      3      5      9      4      6      4      4   \n",
       "4      2      1      3     1      1      8      6      6      6      6      5   \n",
       "\n",
       "   xy2br  x-ege  xegvy  y-ege  yegvx  \n",
       "0      8      0      8      0      8  \n",
       "1      9      2      8      4     10  \n",
       "2      7      3      7      3      9  \n",
       "3     10      6     10      2      8  \n",
       "4      9      1      7      5     10  "
      ]
     },
     "execution_count": 2,
     "metadata": {},
     "output_type": "execute_result"
    }
   ],
   "source": [
    "X.head()"
   ]
  },
  {
   "cell_type": "code",
   "execution_count": 3,
   "id": "84cee5ce",
   "metadata": {},
   "outputs": [
    {
     "data": {
      "text/html": [
       "<div>\n",
       "<style scoped>\n",
       "    .dataframe tbody tr th:only-of-type {\n",
       "        vertical-align: middle;\n",
       "    }\n",
       "\n",
       "    .dataframe tbody tr th {\n",
       "        vertical-align: top;\n",
       "    }\n",
       "\n",
       "    .dataframe thead th {\n",
       "        text-align: right;\n",
       "    }\n",
       "</style>\n",
       "<table border=\"1\" class=\"dataframe\">\n",
       "  <thead>\n",
       "    <tr style=\"text-align: right;\">\n",
       "      <th></th>\n",
       "      <th>lettr</th>\n",
       "    </tr>\n",
       "  </thead>\n",
       "  <tbody>\n",
       "    <tr>\n",
       "      <th>0</th>\n",
       "      <td>T</td>\n",
       "    </tr>\n",
       "    <tr>\n",
       "      <th>1</th>\n",
       "      <td>I</td>\n",
       "    </tr>\n",
       "    <tr>\n",
       "      <th>2</th>\n",
       "      <td>D</td>\n",
       "    </tr>\n",
       "    <tr>\n",
       "      <th>3</th>\n",
       "      <td>N</td>\n",
       "    </tr>\n",
       "    <tr>\n",
       "      <th>4</th>\n",
       "      <td>G</td>\n",
       "    </tr>\n",
       "    <tr>\n",
       "      <th>...</th>\n",
       "      <td>...</td>\n",
       "    </tr>\n",
       "    <tr>\n",
       "      <th>19995</th>\n",
       "      <td>D</td>\n",
       "    </tr>\n",
       "    <tr>\n",
       "      <th>19996</th>\n",
       "      <td>C</td>\n",
       "    </tr>\n",
       "    <tr>\n",
       "      <th>19997</th>\n",
       "      <td>T</td>\n",
       "    </tr>\n",
       "    <tr>\n",
       "      <th>19998</th>\n",
       "      <td>S</td>\n",
       "    </tr>\n",
       "    <tr>\n",
       "      <th>19999</th>\n",
       "      <td>A</td>\n",
       "    </tr>\n",
       "  </tbody>\n",
       "</table>\n",
       "<p>20000 rows × 1 columns</p>\n",
       "</div>"
      ],
      "text/plain": [
       "      lettr\n",
       "0         T\n",
       "1         I\n",
       "2         D\n",
       "3         N\n",
       "4         G\n",
       "...     ...\n",
       "19995     D\n",
       "19996     C\n",
       "19997     T\n",
       "19998     S\n",
       "19999     A\n",
       "\n",
       "[20000 rows x 1 columns]"
      ]
     },
     "execution_count": 3,
     "metadata": {},
     "output_type": "execute_result"
    }
   ],
   "source": [
    "y"
   ]
  },
  {
   "cell_type": "markdown",
   "id": "f8441b8c",
   "metadata": {},
   "source": [
    "What if we need to encode labels?"
   ]
  },
  {
   "cell_type": "code",
   "execution_count": 4,
   "id": "d2a85783",
   "metadata": {},
   "outputs": [
    {
     "name": "stderr",
     "output_type": "stream",
     "text": [
      "/opt/homebrew/lib/python3.12/site-packages/sklearn/preprocessing/_label.py:114: DataConversionWarning: A column-vector y was passed when a 1d array was expected. Please change the shape of y to (n_samples, ), for example using ravel().\n",
      "  y = column_or_1d(y, warn=True)\n"
     ]
    }
   ],
   "source": [
    "from sklearn.preprocessing import LabelEncoder\n",
    "\n",
    "le = LabelEncoder()\n",
    "\n",
    "y = le.fit_transform(y)"
   ]
  },
  {
   "cell_type": "code",
   "execution_count": 5,
   "id": "eb291850",
   "metadata": {},
   "outputs": [
    {
     "name": "stdout",
     "output_type": "stream",
     "text": [
      "[19  8  3 13  6 18  1  0  9 12]\n"
     ]
    }
   ],
   "source": [
    "print(y[:10])"
   ]
  },
  {
   "cell_type": "code",
   "execution_count": 6,
   "id": "95151f6d",
   "metadata": {},
   "outputs": [
    {
     "name": "stdout",
     "output_type": "stream",
     "text": [
      "['T' 'I' 'D' 'N' 'G' 'S' 'B' 'A' 'J' 'M']\n"
     ]
    }
   ],
   "source": [
    "print(le.inverse_transform(y[:10]))"
   ]
  },
  {
   "cell_type": "markdown",
   "id": "3d5f0bd3",
   "metadata": {},
   "source": [
    "### Simple hold out (training-test only)"
   ]
  },
  {
   "cell_type": "code",
   "execution_count": 7,
   "id": "8ca166b4",
   "metadata": {},
   "outputs": [],
   "source": [
    "from sklearn.linear_model import LogisticRegression\n",
    "from sklearn.linear_model import Perceptron\n",
    "from sklearn.neighbors import KNeighborsClassifier\n",
    "from sklearn.tree import DecisionTreeClassifier\n",
    "from sklearn.svm import SVC\n",
    "from sklearn.ensemble import RandomForestClassifier\n",
    "\n",
    "from sklearn.model_selection import train_test_split\n",
    "\n",
    "import seaborn as sns"
   ]
  },
  {
   "cell_type": "markdown",
   "id": "e144c562",
   "metadata": {},
   "source": [
    "### Step 1: prepare dataset"
   ]
  },
  {
   "cell_type": "code",
   "execution_count": 8,
   "id": "05156574",
   "metadata": {},
   "outputs": [],
   "source": [
    "# train_test proportion\n",
    "test_proportion = 0.2\n",
    "\n",
    "x_train, x_test, y_train, y_test = train_test_split(X, \n",
    "                                                    y, \n",
    "                                                    test_size = test_proportion, \n",
    "                                                    stratify = y,\n",
    "                                                    shuffle = True)\n",
    "\n",
    "# do we need to set the random state?"
   ]
  },
  {
   "cell_type": "markdown",
   "id": "4be607ac",
   "metadata": {},
   "source": [
    "### Step 2: create models"
   ]
  },
  {
   "cell_type": "code",
   "execution_count": 9,
   "id": "bfaef5f7",
   "metadata": {},
   "outputs": [],
   "source": [
    "lr = LogisticRegression()\n",
    "per = Perceptron()\n",
    "knn = KNeighborsClassifier()\n",
    "dt = DecisionTreeClassifier()\n",
    "svc = SVC()\n",
    "rf = RandomForestClassifier()"
   ]
  },
  {
   "cell_type": "markdown",
   "id": "94d65752",
   "metadata": {},
   "source": [
    "### Step 3: train the models"
   ]
  },
  {
   "cell_type": "code",
   "execution_count": 10,
   "id": "bd02046e",
   "metadata": {},
   "outputs": [
    {
     "name": "stderr",
     "output_type": "stream",
     "text": [
      "/opt/homebrew/lib/python3.12/site-packages/sklearn/linear_model/_logistic.py:469: ConvergenceWarning: lbfgs failed to converge (status=1):\n",
      "STOP: TOTAL NO. of ITERATIONS REACHED LIMIT.\n",
      "\n",
      "Increase the number of iterations (max_iter) or scale the data as shown in:\n",
      "    https://scikit-learn.org/stable/modules/preprocessing.html\n",
      "Please also refer to the documentation for alternative solver options:\n",
      "    https://scikit-learn.org/stable/modules/linear_model.html#logistic-regression\n",
      "  n_iter_i = _check_optimize_result(\n"
     ]
    },
    {
     "name": "stdout",
     "output_type": "stream",
     "text": [
      "\n"
     ]
    }
   ],
   "source": [
    "lr.fit(x_train, y_train)\n",
    "per.fit(x_train, y_train)\n",
    "knn.fit(x_train, y_train)\n",
    "dt.fit(x_train, y_train)\n",
    "svc.fit(x_train, y_train)\n",
    "rf.fit(x_train, y_train)\n",
    "\n",
    "print(\"\")"
   ]
  },
  {
   "cell_type": "markdown",
   "id": "221dd620",
   "metadata": {},
   "source": [
    "### Step 4: test the models"
   ]
  },
  {
   "cell_type": "code",
   "execution_count": 11,
   "id": "255dde8a",
   "metadata": {},
   "outputs": [],
   "source": [
    "from sklearn.metrics import accuracy_score\n",
    "from sklearn.metrics import precision_score\n",
    "from sklearn.metrics import recall_score\n",
    "from sklearn.metrics import f1_score"
   ]
  },
  {
   "cell_type": "code",
   "execution_count": 12,
   "id": "b8de5f5c",
   "metadata": {},
   "outputs": [],
   "source": [
    "lr_pred = lr.predict(x_test)\n",
    "per_pred = per.predict(x_test)\n",
    "knn_pred = knn.predict(x_test)\n",
    "dt_pred = dt.predict(x_test)\n",
    "svc_pred = svc.predict(x_test)\n",
    "rf_pred = rf.predict(x_test)"
   ]
  },
  {
   "cell_type": "code",
   "execution_count": 13,
   "id": "506b7dc4",
   "metadata": {},
   "outputs": [],
   "source": [
    "lr_f1 = f1_score(lr_pred, y_test, average=\"macro\")\n",
    "per_f1 = f1_score(per_pred, y_test, average=\"macro\")\n",
    "knn_f1 = f1_score(knn_pred, y_test, average=\"macro\")\n",
    "dt_f1 = f1_score(dt_pred, y_test, average=\"macro\")\n",
    "svc_f1 = f1_score(svc_pred, y_test, average=\"macro\")\n",
    "rf_f1 = f1_score(rf_pred, y_test, average=\"macro\")\n",
    "\n",
    "f1_results = [lr_f1, per_f1, knn_f1, dt_f1, svc_f1, rf_f1]"
   ]
  },
  {
   "cell_type": "code",
   "execution_count": 14,
   "id": "72dfd295",
   "metadata": {},
   "outputs": [
    {
     "data": {
      "text/plain": [
       "[0.7653193261088197,\n",
       " 0.4668513375439152,\n",
       " 0.9587477041366832,\n",
       " 0.8813780341691355,\n",
       " 0.9348196921374423,\n",
       " 0.9663428432758608]"
      ]
     },
     "execution_count": 14,
     "metadata": {},
     "output_type": "execute_result"
    }
   ],
   "source": [
    "f1_results"
   ]
  },
  {
   "cell_type": "markdown",
   "id": "b512e060",
   "metadata": {},
   "source": [
    "Let's see the results on a plot"
   ]
  },
  {
   "cell_type": "code",
   "execution_count": 15,
   "id": "481845ee",
   "metadata": {},
   "outputs": [
    {
     "data": {
      "image/png": "[encoded data removed]",
      "text/plain": [
       "<Figure size 640x480 with 1 Axes>"
      ]
     },
     "metadata": {},
     "output_type": "display_data"
    }
   ],
   "source": [
    "import matplotlib.pyplot as plt\n",
    "\n",
    "ticks = [1, 2, 3, 4, 5, 6]\n",
    "labels = [\"lr\", \"per\", \"knn\", \"dt\", \"svc\", \"rf\"]\n",
    "\n",
    "fig = plt.figure() #Step 2\n",
    "ax = fig.add_subplot(111) #Step 3\n",
    "ax.scatter(ticks,\n",
    "           f1_results,\n",
    "          color= 'darkgreen',\n",
    "          marker= '^' )\n",
    "ax.set_ylim(0, 1)\n",
    "ax.set_xlim(0, 6.5)\n",
    "ax.set_xticks(ticks, labels)\n",
    "plt.savefig('foo2.png' ) #Step 5\n",
    "plt.show() #Step 6"
   ]
  },
  {
   "cell_type": "markdown",
   "id": "ece524ba",
   "metadata": {},
   "source": [
    "### \"Simple\" K-fold cross validation (no test)"
   ]
  },
  {
   "cell_type": "code",
   "execution_count": 16,
   "id": "de27a184",
   "metadata": {},
   "outputs": [],
   "source": [
    "from sklearn.model_selection import KFold\n",
    "from sklearn.model_selection import cross_validate\n",
    "\n",
    "num_folds = 3\n",
    "\n",
    "k_fold = KFold(n_splits = num_folds, \n",
    "               shuffle = True, \n",
    "               random_state=1)\n",
    "\n",
    "# do we need random seed?"
   ]
  },
  {
   "cell_type": "code",
   "execution_count": 17,
   "id": "40af3c16",
   "metadata": {},
   "outputs": [
    {
     "name": "stderr",
     "output_type": "stream",
     "text": [
      "/opt/homebrew/lib/python3.12/site-packages/sklearn/linear_model/_logistic.py:469: ConvergenceWarning: lbfgs failed to converge (status=1):\n",
      "STOP: TOTAL NO. of ITERATIONS REACHED LIMIT.\n",
      "\n",
      "Increase the number of iterations (max_iter) or scale the data as shown in:\n",
      "    https://scikit-learn.org/stable/modules/preprocessing.html\n",
      "Please also refer to the documentation for alternative solver options:\n",
      "    https://scikit-learn.org/stable/modules/linear_model.html#logistic-regression\n",
      "  n_iter_i = _check_optimize_result(\n",
      "/opt/homebrew/lib/python3.12/site-packages/sklearn/linear_model/_logistic.py:469: ConvergenceWarning: lbfgs failed to converge (status=1):\n",
      "STOP: TOTAL NO. of ITERATIONS REACHED LIMIT.\n",
      "\n",
      "Increase the number of iterations (max_iter) or scale the data as shown in:\n",
      "    https://scikit-learn.org/stable/modules/preprocessing.html\n",
      "Please also refer to the documentation for alternative solver options:\n",
      "    https://scikit-learn.org/stable/modules/linear_model.html#logistic-regression\n",
      "  n_iter_i = _check_optimize_result(\n",
      "/opt/homebrew/lib/python3.12/site-packages/sklearn/linear_model/_logistic.py:469: ConvergenceWarning: lbfgs failed to converge (status=1):\n",
      "STOP: TOTAL NO. of ITERATIONS REACHED LIMIT.\n",
      "\n",
      "Increase the number of iterations (max_iter) or scale the data as shown in:\n",
      "    https://scikit-learn.org/stable/modules/preprocessing.html\n",
      "Please also refer to the documentation for alternative solver options:\n",
      "    https://scikit-learn.org/stable/modules/linear_model.html#logistic-regression\n",
      "  n_iter_i = _check_optimize_result(\n"
     ]
    }
   ],
   "source": [
    "cv_lr = cross_validate(estimator = lr, \n",
    "                       X = X, \n",
    "                       y = y, \n",
    "                       cv = k_fold, \n",
    "                       scoring = ('f1_macro'), \n",
    "                       return_train_score = False)\n",
    "\n",
    "cv_per = cross_validate(estimator = per, X = X, y = y, cv = k_fold, scoring = ('f1_macro'), return_train_score = False)\n",
    "cv_knn = cross_validate(estimator = knn, X = X, y = y, cv = k_fold, scoring = ('f1_macro'), return_train_score = False)\n",
    "cv_dt = cross_validate(estimator = dt, X = X, y = y, cv = k_fold, scoring = ('f1_macro'), return_train_score = False)\n",
    "cv_svc = cross_validate(estimator = svc, X = X, y = y, cv = k_fold, scoring = ('f1_macro'), return_train_score = False)\n",
    "cv_rf = cross_validate(estimator = rf, X = X, y = y, cv = k_fold, scoring = ('f1_macro'), return_train_score = False)"
   ]
  },
  {
   "cell_type": "code",
   "execution_count": 18,
   "id": "f12756f1",
   "metadata": {},
   "outputs": [],
   "source": [
    "import pandas as pd\n",
    "\n",
    "f1_perf = pd.DataFrame({\n",
    "  'Model': ['lr'] * num_folds + ['per'] * num_folds + ['knn'] * num_folds + ['dt'] * num_folds + ['svc'] * num_folds + ['rf'] * num_folds,\n",
    "  'Performance': list(cv_lr['test_score']) + list(cv_per['test_score']) + list(cv_knn['test_score']) + list(cv_dt['test_score']) + list(cv_svc['test_score']) + list(cv_rf['test_score'])\n",
    "})\n",
    "\n"
   ]
  },
  {
   "cell_type": "code",
   "execution_count": 19,
   "id": "1745a8c6",
   "metadata": {},
   "outputs": [],
   "source": [
    "#f1_perf"
   ]
  },
  {
   "cell_type": "code",
   "execution_count": 20,
   "id": "493a158e",
   "metadata": {},
   "outputs": [
    {
     "data": {
      "image/png": "[encoded data removed]",
      "text/plain": [
       "<Figure size 640x480 with 1 Axes>"
      ]
     },
     "metadata": {},
     "output_type": "display_data"
    }
   ],
   "source": [
    "fig = plt.figure() #Step 2\n",
    "ax = fig.add_subplot(111) #Step 3\n",
    "sns.boxplot(data = f1_perf, x='Model', y='Performance')\n",
    "sns.stripplot(data = f1_perf, x='Model', y='Performance', color='darkred', size=4, alpha=0.7)\n",
    "\n",
    "#ax.set(ylim = (0.8, 1.0))\n",
    "\n",
    "plt.show()"
   ]
  },
  {
   "cell_type": "code",
   "execution_count": 21,
   "id": "31740712",
   "metadata": {},
   "outputs": [
    {
     "name": "stderr",
     "output_type": "stream",
     "text": [
      "/opt/homebrew/lib/python3.12/site-packages/scipy/stats/_wilcoxon.py:198: UserWarning: Sample size too small for normal approximation.\n",
      "  temp = _wilcoxon_iv(x, y, zero_method, correction, alternative, method, axis)\n"
     ]
    }
   ],
   "source": [
    "from scipy.stats import wilcoxon\n",
    "\n",
    "model_1 = \"dt\"\n",
    "model_2 = \"svc\"\n",
    "\n",
    "# perform Wilcoxon signed-rank test\n",
    "wilcoxon_stat, wilcoxon_pval = wilcoxon(f1_perf[f1_perf['Model'] == model_1]['Performance'], \n",
    "                                        f1_perf[f1_perf['Model'] == model_2]['Performance'], \n",
    "                                        alternative = 'two-sided', \n",
    "                                        zero_method = 'wilcox', \n",
    "                                        correction = True,\n",
    "                                        mode = 'approx')\n"
   ]
  },
  {
   "cell_type": "code",
   "execution_count": 22,
   "id": "091f86fa",
   "metadata": {},
   "outputs": [
    {
     "name": "stdout",
     "output_type": "stream",
     "text": [
      "Wilcoxon Signed-Rank Test:\n",
      "p-value: 0.18144920772142048\n"
     ]
    }
   ],
   "source": [
    "# display test results\n",
    "print(\"Wilcoxon Signed-Rank Test:\")\n",
    "print(f\"p-value: {wilcoxon_pval}\")\n"
   ]
  },
  {
   "cell_type": "markdown",
   "id": "290829a8",
   "metadata": {},
   "source": [
    "### K-fold cross validation (with test)"
   ]
  },
  {
   "cell_type": "code",
   "execution_count": 23,
   "id": "93007be7",
   "metadata": {},
   "outputs": [],
   "source": [
    "# train_test proportion\n",
    "test_proportion = 0.2\n",
    "\n",
    "x_train, x_test, y_train, y_test = train_test_split(X, \n",
    "                                                    y, \n",
    "                                                    test_size = test_proportion, \n",
    "                                                    stratify = y,\n",
    "                                                    shuffle = True,\n",
    "                                                    random_state = 11\n",
    "                                                   )\n",
    "\n",
    "# do we need to set the random state?"
   ]
  },
  {
   "cell_type": "code",
   "execution_count": 24,
   "id": "50728bfc",
   "metadata": {},
   "outputs": [],
   "source": [
    "#train validation proportion\n",
    "from sklearn.model_selection import StratifiedKFold\n",
    "from sklearn.model_selection import cross_validate\n",
    "\n",
    "num_folds = 3\n",
    "\n",
    "k_fold = KFold(n_splits = num_folds, \n",
    "               shuffle = True, \n",
    "               random_state=1)\n",
    "\n",
    "# do we need random seed?"
   ]
  },
  {
   "cell_type": "markdown",
   "id": "d043964d",
   "metadata": {},
   "source": [
    "Try a different solver for Logistic Regression"
   ]
  },
  {
   "cell_type": "code",
   "execution_count": 25,
   "id": "5d44c64f",
   "metadata": {},
   "outputs": [],
   "source": [
    "lr = LogisticRegression(max_iter=100, solver=\"liblinear\")"
   ]
  },
  {
   "cell_type": "code",
   "execution_count": 26,
   "id": "a5206647",
   "metadata": {},
   "outputs": [],
   "source": [
    "cv_lr = cross_validate(estimator = lr, \n",
    "                       X = x_train, \n",
    "                       y = y_train, \n",
    "                       cv = k_fold, \n",
    "                       scoring = ('f1_macro'), \n",
    "                       return_train_score = False)\n"
   ]
  },
  {
   "cell_type": "code",
   "execution_count": 27,
   "id": "ca09a2ff",
   "metadata": {},
   "outputs": [],
   "source": [
    "cv_per = cross_validate(estimator = per, X = x_train, y = y_train, cv = k_fold, scoring = ('f1_macro'), return_train_score = False)\n",
    "cv_knn = cross_validate(estimator = knn, X = x_train, y = y_train, cv = k_fold, scoring = ('f1_macro'), return_train_score = False)\n",
    "cv_dt = cross_validate(estimator = dt, X = x_train, y = y_train, cv = k_fold, scoring = ('f1_macro'), return_train_score = False)\n",
    "cv_svc = cross_validate(estimator = svc, X = x_train, y = y_train, cv = k_fold, scoring = ('f1_macro'), return_train_score = False)\n",
    "cv_rf = cross_validate(estimator = rf, X = x_train, y = y_train, cv = k_fold, scoring = ('f1_macro'), return_train_score = False)"
   ]
  },
  {
   "cell_type": "code",
   "execution_count": 28,
   "id": "bb7d2eb0",
   "metadata": {},
   "outputs": [],
   "source": [
    "import pandas as pd\n",
    "\n",
    "f1_perf = pd.DataFrame({\n",
    "  'Model': ['lr'] * num_folds + ['per'] * num_folds + ['knn'] * num_folds + ['dt'] * num_folds + ['svc'] * num_folds + ['rf'] * num_folds,\n",
    "  'Performance': list(cv_lr['test_score']) + list(cv_per['test_score']) + list(cv_knn['test_score']) + list(cv_dt['test_score']) + list(cv_svc['test_score']) + list(cv_rf['test_score'])\n",
    "})\n",
    "\n"
   ]
  },
  {
   "cell_type": "code",
   "execution_count": 29,
   "id": "2868b16b",
   "metadata": {},
   "outputs": [
    {
     "data": {
      "image/png": "[encoded data removed]",
      "text/plain": [
       "<Figure size 640x480 with 1 Axes>"
      ]
     },
     "metadata": {},
     "output_type": "display_data"
    }
   ],
   "source": [
    "fig = plt.figure() #Step 2\n",
    "ax = fig.add_subplot(111) #Step 3\n",
    "sns.boxplot(data = f1_perf, x='Model', y='Performance')\n",
    "sns.stripplot(data = f1_perf, x='Model', y='Performance', color='darkred', size=4, alpha=0.7)\n",
    "\n",
    "#ax.set(ylim = (0.8, 1.0))\n",
    "\n",
    "plt.show()"
   ]
  },
  {
   "cell_type": "code",
   "execution_count": 30,
   "id": "d4dfd12b",
   "metadata": {},
   "outputs": [
    {
     "name": "stderr",
     "output_type": "stream",
     "text": [
      "/opt/homebrew/lib/python3.12/site-packages/scipy/stats/_wilcoxon.py:198: UserWarning: Sample size too small for normal approximation.\n",
      "  temp = _wilcoxon_iv(x, y, zero_method, correction, alternative, method, axis)\n"
     ]
    }
   ],
   "source": [
    "from scipy.stats import wilcoxon\n",
    "\n",
    "model_1 = \"rf\"\n",
    "model_2 = \"knn\"\n",
    "\n",
    "# perform Wilcoxon signed-rank test\n",
    "wilcoxon_stat, wilcoxon_pval = wilcoxon(f1_perf[f1_perf['Model'] == model_1]['Performance'], \n",
    "                                        f1_perf[f1_perf['Model'] == model_2]['Performance'], \n",
    "                                        alternative = 'two-sided', \n",
    "                                        zero_method = 'wilcox', \n",
    "                                        correction = True,\n",
    "                                        mode = 'approx')\n"
   ]
  },
  {
   "cell_type": "markdown",
   "id": "0a5596a9",
   "metadata": {},
   "source": [
    "Let's try to increase the number of folds on the best models"
   ]
  },
  {
   "cell_type": "code",
   "execution_count": 31,
   "id": "12377988",
   "metadata": {},
   "outputs": [],
   "source": [
    "#train validation proportion\n",
    "from sklearn.model_selection import StratifiedKFold\n",
    "from sklearn.model_selection import cross_validate\n",
    "\n",
    "num_folds = 5\n",
    "\n",
    "k_fold = KFold(n_splits = num_folds, \n",
    "               shuffle = True, \n",
    "               random_state=1)\n",
    "\n",
    "# do we need random seed?"
   ]
  },
  {
   "cell_type": "code",
   "execution_count": 32,
   "id": "d1e8107e",
   "metadata": {},
   "outputs": [],
   "source": [
    "cv_knn = cross_validate(estimator = knn, X = x_train, y = y_train, cv = k_fold, scoring = ('f1_macro'), return_train_score = False)\n",
    "cv_svc = cross_validate(estimator = svc, X = x_train, y = y_train, cv = k_fold, scoring = ('f1_macro'), return_train_score = False)\n",
    "cv_rf = cross_validate(estimator = rf, X = x_train, y = y_train, cv = k_fold, scoring = ('f1_macro'), return_train_score = False)"
   ]
  },
  {
   "cell_type": "code",
   "execution_count": 33,
   "id": "32b1ec86",
   "metadata": {},
   "outputs": [],
   "source": [
    "f1_perf = pd.DataFrame({\n",
    "  'Model': ['knn'] * num_folds + ['svc'] * num_folds + ['rf'] * num_folds,\n",
    "  'Performance': list(cv_knn['test_score']) + list(cv_svc['test_score']) + list(cv_rf['test_score'])\n",
    "})\n",
    "\n"
   ]
  },
  {
   "cell_type": "code",
   "execution_count": 34,
   "id": "6407c391",
   "metadata": {},
   "outputs": [
    {
     "data": {
      "image/png": "[encoded data removed]",
      "text/plain": [
       "<Figure size 640x480 with 1 Axes>"
      ]
     },
     "metadata": {},
     "output_type": "display_data"
    }
   ],
   "source": [
    "fig = plt.figure() #Step 2\n",
    "ax = fig.add_subplot(111) #Step 3\n",
    "sns.boxplot(data = f1_perf, x='Model', y='Performance')\n",
    "sns.stripplot(data = f1_perf, x='Model', y='Performance', color='darkred', size=4, alpha=0.7)\n",
    "\n",
    "#ax.set(ylim = (0.8, 1.0))\n",
    "\n",
    "plt.show()"
   ]
  },
  {
   "cell_type": "code",
   "execution_count": 35,
   "id": "e88f77ac",
   "metadata": {},
   "outputs": [],
   "source": [
    "from scipy.stats import wilcoxon\n",
    "\n",
    "model_1 = \"rf\"\n",
    "model_2 = \"svc\"\n",
    "\n",
    "# perform Wilcoxon signed-rank test\n",
    "wilcoxon_stat, wilcoxon_pval = wilcoxon(f1_perf[f1_perf['Model'] == model_1]['Performance'], \n",
    "                                        f1_perf[f1_perf['Model'] == model_2]['Performance'], \n",
    "                                        alternative = 'two-sided', \n",
    "                                        zero_method = 'wilcox', \n",
    "                                        correction = False,\n",
    "                                        mode = 'auto')\n"
   ]
  },
  {
   "cell_type": "markdown",
   "id": "33e851b6",
   "metadata": {},
   "source": [
    "### Stop here and decide the alpha value"
   ]
  },
  {
   "cell_type": "code",
   "execution_count": 36,
   "id": "c3f83b59",
   "metadata": {},
   "outputs": [
    {
     "name": "stdout",
     "output_type": "stream",
     "text": [
      "Wilcoxon Signed-Rank Test:\n",
      "p-value: 0.0625\n"
     ]
    }
   ],
   "source": [
    "# display test results\n",
    "print(\"Wilcoxon Signed-Rank Test:\")\n",
    "print(f\"p-value: {wilcoxon_pval}\")\n"
   ]
  },
  {
   "cell_type": "code",
   "execution_count": 37,
   "id": "36f750ff",
   "metadata": {},
   "outputs": [
    {
     "data": {
      "text/plain": [
       "10    0.952630\n",
       "11    0.959075\n",
       "12    0.959587\n",
       "13    0.958671\n",
       "14    0.960008\n",
       "Name: Performance, dtype: float64"
      ]
     },
     "execution_count": 37,
     "metadata": {},
     "output_type": "execute_result"
    }
   ],
   "source": [
    "f1_perf[f1_perf['Model'] == model_1]['Performance']"
   ]
  },
  {
   "cell_type": "code",
   "execution_count": 38,
   "id": "ebc69159",
   "metadata": {},
   "outputs": [
    {
     "data": {
      "text/plain": [
       "5    0.909485\n",
       "6    0.917357\n",
       "7    0.921533\n",
       "8    0.922639\n",
       "9    0.911595\n",
       "Name: Performance, dtype: float64"
      ]
     },
     "execution_count": 38,
     "metadata": {},
     "output_type": "execute_result"
    }
   ],
   "source": [
    "f1_perf[f1_perf['Model'] == model_2]['Performance']"
   ]
  },
  {
   "cell_type": "code",
   "execution_count": 39,
   "id": "8843a717",
   "metadata": {},
   "outputs": [
    {
     "data": {
      "text/plain": [
       "WilcoxonResult(statistic=0.0, pvalue=1.0)"
      ]
     },
     "execution_count": 39,
     "metadata": {},
     "output_type": "execute_result"
    }
   ],
   "source": [
    "l1 = [0.95]\n",
    "l2 = [0.91]\n",
    "\n",
    "wilcoxon(x = l1, y = l2)"
   ]
  },
  {
   "cell_type": "markdown",
   "id": "c268f5eb",
   "metadata": {},
   "source": [
    "### decide for the best model"
   ]
  },
  {
   "cell_type": "markdown",
   "id": "aa9fc111",
   "metadata": {},
   "source": [
    "Let's say that the best model is Random Forest, but since our computational power is limited allows us to run experiments with knn only."
   ]
  },
  {
   "cell_type": "markdown",
   "id": "f9395a4c",
   "metadata": {},
   "source": [
    "### Train the best model on the whole training set"
   ]
  },
  {
   "cell_type": "code",
   "execution_count": 40,
   "id": "69fefd6b",
   "metadata": {},
   "outputs": [
    {
     "data": {
      "text/html": [
       "<style>#sk-container-id-1 {\n",
       "  /* Definition of color scheme common for light and dark mode */\n",
       "  --sklearn-color-text: black;\n",
       "  --sklearn-color-line: gray;\n",
       "  /* Definition of color scheme for unfitted estimators */\n",
       "  --sklearn-color-unfitted-level-0: #fff5e6;\n",
       "  --sklearn-color-unfitted-level-1: #f6e4d2;\n",
       "  --sklearn-color-unfitted-level-2: #ffe0b3;\n",
       "  --sklearn-color-unfitted-level-3: chocolate;\n",
       "  /* Definition of color scheme for fitted estimators */\n",
       "  --sklearn-color-fitted-level-0: #f0f8ff;\n",
       "  --sklearn-color-fitted-level-1: #d4ebff;\n",
       "  --sklearn-color-fitted-level-2: #b3dbfd;\n",
       "  --sklearn-color-fitted-level-3: cornflowerblue;\n",
       "\n",
       "  /* Specific color for light theme */\n",
       "  --sklearn-color-text-on-default-background: var(--sg-text-color, var(--theme-code-foreground, var(--jp-content-font-color1, black)));\n",
       "  --sklearn-color-background: var(--sg-background-color, var(--theme-background, var(--jp-layout-color0, white)));\n",
       "  --sklearn-color-border-box: var(--sg-text-color, var(--theme-code-foreground, var(--jp-content-font-color1, black)));\n",
       "  --sklearn-color-icon: #696969;\n",
       "\n",
       "  @media (prefers-color-scheme: dark) {\n",
       "    /* Redefinition of color scheme for dark theme */\n",
       "    --sklearn-color-text-on-default-background: var(--sg-text-color, var(--theme-code-foreground, var(--jp-content-font-color1, white)));\n",
       "    --sklearn-color-background: var(--sg-background-color, var(--theme-background, var(--jp-layout-color0, #111)));\n",
       "    --sklearn-color-border-box: var(--sg-text-color, var(--theme-code-foreground, var(--jp-content-font-color1, white)));\n",
       "    --sklearn-color-icon: #878787;\n",
       "  }\n",
       "}\n",
       "\n",
       "#sk-container-id-1 {\n",
       "  color: var(--sklearn-color-text);\n",
       "}\n",
       "\n",
       "#sk-container-id-1 pre {\n",
       "  padding: 0;\n",
       "}\n",
       "\n",
       "#sk-container-id-1 input.sk-hidden--visually {\n",
       "  border: 0;\n",
       "  clip: rect(1px 1px 1px 1px);\n",
       "  clip: rect(1px, 1px, 1px, 1px);\n",
       "  height: 1px;\n",
       "  margin: -1px;\n",
       "  overflow: hidden;\n",
       "  padding: 0;\n",
       "  position: absolute;\n",
       "  width: 1px;\n",
       "}\n",
       "\n",
       "#sk-container-id-1 div.sk-dashed-wrapped {\n",
       "  border: 1px dashed var(--sklearn-color-line);\n",
       "  margin: 0 0.4em 0.5em 0.4em;\n",
       "  box-sizing: border-box;\n",
       "  padding-bottom: 0.4em;\n",
       "  background-color: var(--sklearn-color-background);\n",
       "}\n",
       "\n",
       "#sk-container-id-1 div.sk-container {\n",
       "  /* jupyter's `normalize.less` sets `[hidden] { display: none; }`\n",
       "     but bootstrap.min.css set `[hidden] { display: none !important; }`\n",
       "     so we also need the `!important` here to be able to override the\n",
       "     default hidden behavior on the sphinx rendered scikit-learn.org.\n",
       "     See: https://github.com/scikit-learn/scikit-learn/issues/21755 */\n",
       "  display: inline-block !important;\n",
       "  position: relative;\n",
       "}\n",
       "\n",
       "#sk-container-id-1 div.sk-text-repr-fallback {\n",
       "  display: none;\n",
       "}\n",
       "\n",
       "div.sk-parallel-item,\n",
       "div.sk-serial,\n",
       "div.sk-item {\n",
       "  /* draw centered vertical line to link estimators */\n",
       "  background-image: linear-gradient(var(--sklearn-color-text-on-default-background), var(--sklearn-color-text-on-default-background));\n",
       "  background-size: 2px 100%;\n",
       "  background-repeat: no-repeat;\n",
       "  background-position: center center;\n",
       "}\n",
       "\n",
       "/* Parallel-specific style estimator block */\n",
       "\n",
       "#sk-container-id-1 div.sk-parallel-item::after {\n",
       "  content: \"\";\n",
       "  width: 100%;\n",
       "  border-bottom: 2px solid var(--sklearn-color-text-on-default-background);\n",
       "  flex-grow: 1;\n",
       "}\n",
       "\n",
       "#sk-container-id-1 div.sk-parallel {\n",
       "  display: flex;\n",
       "  align-items: stretch;\n",
       "  justify-content: center;\n",
       "  background-color: var(--sklearn-color-background);\n",
       "  position: relative;\n",
       "}\n",
       "\n",
       "#sk-container-id-1 div.sk-parallel-item {\n",
       "  display: flex;\n",
       "  flex-direction: column;\n",
       "}\n",
       "\n",
       "#sk-container-id-1 div.sk-parallel-item:first-child::after {\n",
       "  align-self: flex-end;\n",
       "  width: 50%;\n",
       "}\n",
       "\n",
       "#sk-container-id-1 div.sk-parallel-item:last-child::after {\n",
       "  align-self: flex-start;\n",
       "  width: 50%;\n",
       "}\n",
       "\n",
       "#sk-container-id-1 div.sk-parallel-item:only-child::after {\n",
       "  width: 0;\n",
       "}\n",
       "\n",
       "/* Serial-specific style estimator block */\n",
       "\n",
       "#sk-container-id-1 div.sk-serial {\n",
       "  display: flex;\n",
       "  flex-direction: column;\n",
       "  align-items: center;\n",
       "  background-color: var(--sklearn-color-background);\n",
       "  padding-right: 1em;\n",
       "  padding-left: 1em;\n",
       "}\n",
       "\n",
       "\n",
       "/* Toggleable style: style used for estimator/Pipeline/ColumnTransformer box that is\n",
       "clickable and can be expanded/collapsed.\n",
       "- Pipeline and ColumnTransformer use this feature and define the default style\n",
       "- Estimators will overwrite some part of the style using the `sk-estimator` class\n",
       "*/\n",
       "\n",
       "/* Pipeline and ColumnTransformer style (default) */\n",
       "\n",
       "#sk-container-id-1 div.sk-toggleable {\n",
       "  /* Default theme specific background. It is overwritten whether we have a\n",
       "  specific estimator or a Pipeline/ColumnTransformer */\n",
       "  background-color: var(--sklearn-color-background);\n",
       "}\n",
       "\n",
       "/* Toggleable label */\n",
       "#sk-container-id-1 label.sk-toggleable__label {\n",
       "  cursor: pointer;\n",
       "  display: block;\n",
       "  width: 100%;\n",
       "  margin-bottom: 0;\n",
       "  padding: 0.5em;\n",
       "  box-sizing: border-box;\n",
       "  text-align: center;\n",
       "}\n",
       "\n",
       "#sk-container-id-1 label.sk-toggleable__label-arrow:before {\n",
       "  /* Arrow on the left of the label */\n",
       "  content: \"▸\";\n",
       "  float: left;\n",
       "  margin-right: 0.25em;\n",
       "  color: var(--sklearn-color-icon);\n",
       "}\n",
       "\n",
       "#sk-container-id-1 label.sk-toggleable__label-arrow:hover:before {\n",
       "  color: var(--sklearn-color-text);\n",
       "}\n",
       "\n",
       "/* Toggleable content - dropdown */\n",
       "\n",
       "#sk-container-id-1 div.sk-toggleable__content {\n",
       "  max-height: 0;\n",
       "  max-width: 0;\n",
       "  overflow: hidden;\n",
       "  text-align: left;\n",
       "  /* unfitted */\n",
       "  background-color: var(--sklearn-color-unfitted-level-0);\n",
       "}\n",
       "\n",
       "#sk-container-id-1 div.sk-toggleable__content.fitted {\n",
       "  /* fitted */\n",
       "  background-color: var(--sklearn-color-fitted-level-0);\n",
       "}\n",
       "\n",
       "#sk-container-id-1 div.sk-toggleable__content pre {\n",
       "  margin: 0.2em;\n",
       "  border-radius: 0.25em;\n",
       "  color: var(--sklearn-color-text);\n",
       "  /* unfitted */\n",
       "  background-color: var(--sklearn-color-unfitted-level-0);\n",
       "}\n",
       "\n",
       "#sk-container-id-1 div.sk-toggleable__content.fitted pre {\n",
       "  /* unfitted */\n",
       "  background-color: var(--sklearn-color-fitted-level-0);\n",
       "}\n",
       "\n",
       "#sk-container-id-1 input.sk-toggleable__control:checked~div.sk-toggleable__content {\n",
       "  /* Expand drop-down */\n",
       "  max-height: 200px;\n",
       "  max-width: 100%;\n",
       "  overflow: auto;\n",
       "}\n",
       "\n",
       "#sk-container-id-1 input.sk-toggleable__control:checked~label.sk-toggleable__label-arrow:before {\n",
       "  content: \"▾\";\n",
       "}\n",
       "\n",
       "/* Pipeline/ColumnTransformer-specific style */\n",
       "\n",
       "#sk-container-id-1 div.sk-label input.sk-toggleable__control:checked~label.sk-toggleable__label {\n",
       "  color: var(--sklearn-color-text);\n",
       "  background-color: var(--sklearn-color-unfitted-level-2);\n",
       "}\n",
       "\n",
       "#sk-container-id-1 div.sk-label.fitted input.sk-toggleable__control:checked~label.sk-toggleable__label {\n",
       "  background-color: var(--sklearn-color-fitted-level-2);\n",
       "}\n",
       "\n",
       "/* Estimator-specific style */\n",
       "\n",
       "/* Colorize estimator box */\n",
       "#sk-container-id-1 div.sk-estimator input.sk-toggleable__control:checked~label.sk-toggleable__label {\n",
       "  /* unfitted */\n",
       "  background-color: var(--sklearn-color-unfitted-level-2);\n",
       "}\n",
       "\n",
       "#sk-container-id-1 div.sk-estimator.fitted input.sk-toggleable__control:checked~label.sk-toggleable__label {\n",
       "  /* fitted */\n",
       "  background-color: var(--sklearn-color-fitted-level-2);\n",
       "}\n",
       "\n",
       "#sk-container-id-1 div.sk-label label.sk-toggleable__label,\n",
       "#sk-container-id-1 div.sk-label label {\n",
       "  /* The background is the default theme color */\n",
       "  color: var(--sklearn-color-text-on-default-background);\n",
       "}\n",
       "\n",
       "/* On hover, darken the color of the background */\n",
       "#sk-container-id-1 div.sk-label:hover label.sk-toggleable__label {\n",
       "  color: var(--sklearn-color-text);\n",
       "  background-color: var(--sklearn-color-unfitted-level-2);\n",
       "}\n",
       "\n",
       "/* Label box, darken color on hover, fitted */\n",
       "#sk-container-id-1 div.sk-label.fitted:hover label.sk-toggleable__label.fitted {\n",
       "  color: var(--sklearn-color-text);\n",
       "  background-color: var(--sklearn-color-fitted-level-2);\n",
       "}\n",
       "\n",
       "/* Estimator label */\n",
       "\n",
       "#sk-container-id-1 div.sk-label label {\n",
       "  font-family: monospace;\n",
       "  font-weight: bold;\n",
       "  display: inline-block;\n",
       "  line-height: 1.2em;\n",
       "}\n",
       "\n",
       "#sk-container-id-1 div.sk-label-container {\n",
       "  text-align: center;\n",
       "}\n",
       "\n",
       "/* Estimator-specific */\n",
       "#sk-container-id-1 div.sk-estimator {\n",
       "  font-family: monospace;\n",
       "  border: 1px dotted var(--sklearn-color-border-box);\n",
       "  border-radius: 0.25em;\n",
       "  box-sizing: border-box;\n",
       "  margin-bottom: 0.5em;\n",
       "  /* unfitted */\n",
       "  background-color: var(--sklearn-color-unfitted-level-0);\n",
       "}\n",
       "\n",
       "#sk-container-id-1 div.sk-estimator.fitted {\n",
       "  /* fitted */\n",
       "  background-color: var(--sklearn-color-fitted-level-0);\n",
       "}\n",
       "\n",
       "/* on hover */\n",
       "#sk-container-id-1 div.sk-estimator:hover {\n",
       "  /* unfitted */\n",
       "  background-color: var(--sklearn-color-unfitted-level-2);\n",
       "}\n",
       "\n",
       "#sk-container-id-1 div.sk-estimator.fitted:hover {\n",
       "  /* fitted */\n",
       "  background-color: var(--sklearn-color-fitted-level-2);\n",
       "}\n",
       "\n",
       "/* Specification for estimator info (e.g. \"i\" and \"?\") */\n",
       "\n",
       "/* Common style for \"i\" and \"?\" */\n",
       "\n",
       ".sk-estimator-doc-link,\n",
       "a:link.sk-estimator-doc-link,\n",
       "a:visited.sk-estimator-doc-link {\n",
       "  float: right;\n",
       "  font-size: smaller;\n",
       "  line-height: 1em;\n",
       "  font-family: monospace;\n",
       "  background-color: var(--sklearn-color-background);\n",
       "  border-radius: 1em;\n",
       "  height: 1em;\n",
       "  width: 1em;\n",
       "  text-decoration: none !important;\n",
       "  margin-left: 1ex;\n",
       "  /* unfitted */\n",
       "  border: var(--sklearn-color-unfitted-level-1) 1pt solid;\n",
       "  color: var(--sklearn-color-unfitted-level-1);\n",
       "}\n",
       "\n",
       ".sk-estimator-doc-link.fitted,\n",
       "a:link.sk-estimator-doc-link.fitted,\n",
       "a:visited.sk-estimator-doc-link.fitted {\n",
       "  /* fitted */\n",
       "  border: var(--sklearn-color-fitted-level-1) 1pt solid;\n",
       "  color: var(--sklearn-color-fitted-level-1);\n",
       "}\n",
       "\n",
       "/* On hover */\n",
       "div.sk-estimator:hover .sk-estimator-doc-link:hover,\n",
       ".sk-estimator-doc-link:hover,\n",
       "div.sk-label-container:hover .sk-estimator-doc-link:hover,\n",
       ".sk-estimator-doc-link:hover {\n",
       "  /* unfitted */\n",
       "  background-color: var(--sklearn-color-unfitted-level-3);\n",
       "  color: var(--sklearn-color-background);\n",
       "  text-decoration: none;\n",
       "}\n",
       "\n",
       "div.sk-estimator.fitted:hover .sk-estimator-doc-link.fitted:hover,\n",
       ".sk-estimator-doc-link.fitted:hover,\n",
       "div.sk-label-container:hover .sk-estimator-doc-link.fitted:hover,\n",
       ".sk-estimator-doc-link.fitted:hover {\n",
       "  /* fitted */\n",
       "  background-color: var(--sklearn-color-fitted-level-3);\n",
       "  color: var(--sklearn-color-background);\n",
       "  text-decoration: none;\n",
       "}\n",
       "\n",
       "/* Span, style for the box shown on hovering the info icon */\n",
       ".sk-estimator-doc-link span {\n",
       "  display: none;\n",
       "  z-index: 9999;\n",
       "  position: relative;\n",
       "  font-weight: normal;\n",
       "  right: .2ex;\n",
       "  padding: .5ex;\n",
       "  margin: .5ex;\n",
       "  width: min-content;\n",
       "  min-width: 20ex;\n",
       "  max-width: 50ex;\n",
       "  color: var(--sklearn-color-text);\n",
       "  box-shadow: 2pt 2pt 4pt #999;\n",
       "  /* unfitted */\n",
       "  background: var(--sklearn-color-unfitted-level-0);\n",
       "  border: .5pt solid var(--sklearn-color-unfitted-level-3);\n",
       "}\n",
       "\n",
       ".sk-estimator-doc-link.fitted span {\n",
       "  /* fitted */\n",
       "  background: var(--sklearn-color-fitted-level-0);\n",
       "  border: var(--sklearn-color-fitted-level-3);\n",
       "}\n",
       "\n",
       ".sk-estimator-doc-link:hover span {\n",
       "  display: block;\n",
       "}\n",
       "\n",
       "/* \"?\"-specific style due to the `<a>` HTML tag */\n",
       "\n",
       "#sk-container-id-1 a.estimator_doc_link {\n",
       "  float: right;\n",
       "  font-size: 1rem;\n",
       "  line-height: 1em;\n",
       "  font-family: monospace;\n",
       "  background-color: var(--sklearn-color-background);\n",
       "  border-radius: 1rem;\n",
       "  height: 1rem;\n",
       "  width: 1rem;\n",
       "  text-decoration: none;\n",
       "  /* unfitted */\n",
       "  color: var(--sklearn-color-unfitted-level-1);\n",
       "  border: var(--sklearn-color-unfitted-level-1) 1pt solid;\n",
       "}\n",
       "\n",
       "#sk-container-id-1 a.estimator_doc_link.fitted {\n",
       "  /* fitted */\n",
       "  border: var(--sklearn-color-fitted-level-1) 1pt solid;\n",
       "  color: var(--sklearn-color-fitted-level-1);\n",
       "}\n",
       "\n",
       "/* On hover */\n",
       "#sk-container-id-1 a.estimator_doc_link:hover {\n",
       "  /* unfitted */\n",
       "  background-color: var(--sklearn-color-unfitted-level-3);\n",
       "  color: var(--sklearn-color-background);\n",
       "  text-decoration: none;\n",
       "}\n",
       "\n",
       "#sk-container-id-1 a.estimator_doc_link.fitted:hover {\n",
       "  /* fitted */\n",
       "  background-color: var(--sklearn-color-fitted-level-3);\n",
       "}\n",
       "</style><div id=\"sk-container-id-1\" class=\"sk-top-container\"><div class=\"sk-text-repr-fallback\"><pre>KNeighborsClassifier()</pre><b>In a Jupyter environment, please rerun this cell to show the HTML representation or trust the notebook. <br />On GitHub, the HTML representation is unable to render, please try loading this page with nbviewer.org.</b></div><div class=\"sk-container\" hidden><div class=\"sk-item\"><div class=\"sk-estimator fitted sk-toggleable\"><input class=\"sk-toggleable__control sk-hidden--visually\" id=\"sk-estimator-id-1\" type=\"checkbox\" checked><label for=\"sk-estimator-id-1\" class=\"sk-toggleable__label fitted sk-toggleable__label-arrow fitted\">&nbsp;&nbsp;KNeighborsClassifier<a class=\"sk-estimator-doc-link fitted\" rel=\"noreferrer\" target=\"_blank\" href=\"https://scikit-learn.org/1.4/modules/generated/sklearn.neighbors.KNeighborsClassifier.html\">?<span>Documentation for KNeighborsClassifier</span></a><span class=\"sk-estimator-doc-link fitted\">i<span>Fitted</span></span></label><div class=\"sk-toggleable__content fitted\"><pre>KNeighborsClassifier()</pre></div> </div></div></div></div>"
      ],
      "text/plain": [
       "KNeighborsClassifier()"
      ]
     },
     "execution_count": 40,
     "metadata": {},
     "output_type": "execute_result"
    }
   ],
   "source": [
    "knn.fit(x_train, y_train)"
   ]
  },
  {
   "cell_type": "markdown",
   "id": "16bad251",
   "metadata": {},
   "source": [
    "### test the best model on the test set"
   ]
  },
  {
   "cell_type": "code",
   "execution_count": 41,
   "id": "87be16e8",
   "metadata": {},
   "outputs": [],
   "source": [
    "test_knn = knn.predict(x_test)"
   ]
  },
  {
   "cell_type": "code",
   "execution_count": 42,
   "id": "e937b4ba",
   "metadata": {},
   "outputs": [
    {
     "data": {
      "text/plain": [
       "0.955836052350089"
      ]
     },
     "execution_count": 42,
     "metadata": {},
     "output_type": "execute_result"
    }
   ],
   "source": [
    "f1_score(y_test, test_knn, average=\"macro\")"
   ]
  },
  {
   "cell_type": "code",
   "execution_count": 43,
   "id": "79610e98",
   "metadata": {},
   "outputs": [
    {
     "ename": "NameError",
     "evalue": "name 'np' is not defined",
     "output_type": "error",
     "traceback": [
      "\u001b[0;31m---------------------------------------------------------------------------\u001b[0m",
      "\u001b[0;31mNameError\u001b[0m                                 Traceback (most recent call last)",
      "Cell \u001b[0;32mIn[43], line 1\u001b[0m\n\u001b[0;32m----> 1\u001b[0m \u001b[43mnp\u001b[49m\u001b[38;5;241m.\u001b[39mmax(cv_knn[\u001b[38;5;124m\"\u001b[39m\u001b[38;5;124mtest_score\u001b[39m\u001b[38;5;124m\"\u001b[39m])\n",
      "\u001b[0;31mNameError\u001b[0m: name 'np' is not defined"
     ]
    }
   ],
   "source": [
    "np.max(cv_knn[\"test_score\"])"
   ]
  },
  {
   "cell_type": "markdown",
   "id": "1e45cf13",
   "metadata": {},
   "source": [
    "Do you really want to try if Random Forest performs better if trained on the whole dataset?"
   ]
  },
  {
   "cell_type": "code",
   "execution_count": null,
   "id": "49a76eb5",
   "metadata": {},
   "outputs": [
    {
     "data": {
      "text/plain": [
       "0.9661965094786742"
      ]
     },
     "execution_count": 93,
     "metadata": {},
     "output_type": "execute_result"
    }
   ],
   "source": [
    "rf.fit(x_train, y_train)\n",
    "test_rf = rf.predict(x_test)\n",
    "f1_score(y_test, test_rf, average=\"macro\")"
   ]
  }
 ],
 "metadata": {
  "kernelspec": {
   "display_name": "Python 3 (ipykernel)",
   "language": "python",
   "name": "python3"
  },
  "language_info": {
   "codemirror_mode": {
    "name": "ipython",
    "version": 3
   },
   "file_extension": ".py",
   "mimetype": "text/x-python",
   "name": "python",
   "nbconvert_exporter": "python",
   "pygments_lexer": "ipython3",
   "version": "3.12.3"
  }
 },
 "nbformat": 4,
 "nbformat_minor": 5
}
