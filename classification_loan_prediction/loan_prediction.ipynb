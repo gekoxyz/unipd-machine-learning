{
 "cells": [
  {
   "cell_type": "markdown",
   "metadata": {},
   "source": [
    "# Loan Prediction classification excercise\n",
    "\n",
    "We consider the dataset file `dataset.csv`, contained in the `data/loan-prediction` directory.\n",
    "A description of the dataset is available in the `README.txt` file on the same directory.\n",
    "\n",
    "The **goal** is to use the informatino from past loan applicants contained in `dataset.csv` to predict whether a *new applicant* should be granted a loan or not.\n",
    "\n",
    "### Load the dataset and handle missing values"
   ]
  },
  {
   "cell_type": "code",
   "execution_count": 9,
   "metadata": {},
   "outputs": [
    {
     "name": "stdout",
     "output_type": "stream",
     "text": [
      "The shape of the dataset is: (614, 12)\n",
      "         Gender Married Dependents     Education Self_Employed  \\\n",
      "Loan_ID                                                          \n",
      "LP001002   Male      No          0      Graduate            No   \n",
      "LP001003   Male     Yes          1      Graduate            No   \n",
      "LP001005   Male     Yes          0      Graduate           Yes   \n",
      "LP001006   Male     Yes          0  Not Graduate            No   \n",
      "LP001008   Male      No          0      Graduate            No   \n",
      "\n",
      "          ApplicantIncome  CoapplicantIncome  LoanAmount  Loan_Amount_Term  \\\n",
      "Loan_ID                                                                      \n",
      "LP001002             5849                0.0         NaN             360.0   \n",
      "LP001003             4583             1508.0       128.0             360.0   \n",
      "LP001005             3000                0.0        66.0             360.0   \n",
      "LP001006             2583             2358.0       120.0             360.0   \n",
      "LP001008             6000                0.0       141.0             360.0   \n",
      "\n",
      "          Credit_History Property_Area Loan_Status  \n",
      "Loan_ID                                             \n",
      "LP001002             1.0         Urban           Y  \n",
      "LP001003             1.0         Rural           N  \n",
      "LP001005             1.0         Urban           Y  \n",
      "LP001006             1.0         Urban           Y  \n",
      "LP001008             1.0         Urban           Y  \n"
     ]
    }
   ],
   "source": [
    "import math\n",
    "import numpy as np\n",
    "import pandas as pd\n",
    "import matplotlib.pyplot as plt\n",
    "import seaborn as sns\n",
    "\n",
    "%matplotlib inline\n",
    "\n",
    "DATASET_PATH = \"./data/loan-prediction/dataset.csv\"\n",
    "\n",
    "# loading the dataset\n",
    "data = pd.read_csv(DATASET_PATH, sep=\",\", index_col=\"Loan_ID\")\n",
    "print(f\"The shape of the dataset is: {data.shape}\")\n",
    "print(data.head())\n",
    "\n",
    "# handling missing values\n",
    "from pandas.api.types import is_numeric_dtype\n",
    "data = data.apply(lambda x: x.fillna(x.median()) if is_numeric_dtype(x) else x.fillna(x.mode().iloc[0]))"
   ]
  },
  {
   "cell_type": "markdown",
   "metadata": {},
   "source": [
    "### Handling outliers\n",
    "\n",
    "Winsorization is a technique for handling outliers in statistics. It replaces extreme values in a dataset with values closer to the center of the distribution (the median)."
   ]
  },
  {
   "cell_type": "code",
   "execution_count": null,
   "metadata": {},
   "outputs": [],
   "source": [
    "# winsorize ApplicantIncome, CoapplicantIncome and LoanAmount\n",
    "import scipy.stats as stats\n",
    "stats.mstats.winsorize(data.ApplicantIncome, limits=0.05, inplace=True)\n",
    "stats.mstats.winsorize(data.CoapplicantIncome, limits=0.05, inplace=True)\n",
    "stats.mstats.winsorize(data.LoanAmount, limits=0.05, inplace=True)\n",
    "\n",
    "# Apply log-transformation to ApplicantIncome and assign it to a new column\n",
    "data[\"Log_ApplicantIncome\"] = data.ApplicantIncome.apply(np.log)\n",
    "# Apply log-transformation to LoanAmount and assign it to a new column\n",
    "data[\"Log_LoanAmount\"] = data.LoanAmount.apply(np.log)"
   ]
  },
  {
   "cell_type": "markdown",
   "metadata": {},
   "source": [
    "### Encoding categorical features: one-hot encoding\n",
    "\n",
    "One-hot encoding is a way to convert categorical data into a numerical representation by creating a binary vector for each category. The resulting vector has a length equal to the number of categories, and each element in the vector corresponds to a specific category."
   ]
  },
  {
   "cell_type": "code",
   "execution_count": 21,
   "metadata": {},
   "outputs": [
    {
     "name": "stdout",
     "output_type": "stream",
     "text": [
      "          ApplicantIncome  CoapplicantIncome  LoanAmount  Loan_Amount_Term  \\\n",
      "Loan_ID                                                                      \n",
      "LP001002             5849                0.0       128.0             360.0   \n",
      "LP001003             4583             1508.0       128.0             360.0   \n",
      "LP001005             3000                0.0        66.0             360.0   \n",
      "LP001006             2583             2358.0       120.0             360.0   \n",
      "LP001008             6000                0.0       141.0             360.0   \n",
      "\n",
      "          Credit_History  Gender_Female  Gender_Male  Married_No  Married_Yes  \\\n",
      "Loan_ID                                                                         \n",
      "LP001002             1.0          False         True        True        False   \n",
      "LP001003             1.0          False         True       False         True   \n",
      "LP001005             1.0          False         True       False         True   \n",
      "LP001006             1.0          False         True       False         True   \n",
      "LP001008             1.0          False         True        True        False   \n",
      "\n",
      "          Dependents_0  ...  Dependents_2  Dependents_3+  Education_Graduate  \\\n",
      "Loan_ID                 ...                                                    \n",
      "LP001002          True  ...         False          False                True   \n",
      "LP001003         False  ...         False          False                True   \n",
      "LP001005          True  ...         False          False                True   \n",
      "LP001006          True  ...         False          False               False   \n",
      "LP001008          True  ...         False          False                True   \n",
      "\n",
      "          Education_Not Graduate  Self_Employed_No  Self_Employed_Yes  \\\n",
      "Loan_ID                                                                 \n",
      "LP001002                   False              True              False   \n",
      "LP001003                   False              True              False   \n",
      "LP001005                   False             False               True   \n",
      "LP001006                    True              True              False   \n",
      "LP001008                   False              True              False   \n",
      "\n",
      "          Property_Area_Rural  Property_Area_Semiurban  Property_Area_Urban  \\\n",
      "Loan_ID                                                                       \n",
      "LP001002                False                    False                 True   \n",
      "LP001003                 True                    False                False   \n",
      "LP001005                False                    False                 True   \n",
      "LP001006                False                    False                 True   \n",
      "LP001008                False                    False                 True   \n",
      "\n",
      "          Loan_Status  \n",
      "Loan_ID                \n",
      "LP001002           -1  \n",
      "LP001003           -1  \n",
      "LP001005           -1  \n",
      "LP001006           -1  \n",
      "LP001008           -1  \n",
      "\n",
      "[5 rows x 21 columns]\n",
      "          ApplicantIncome  CoapplicantIncome  LoanAmount  Loan_Amount_Term  \\\n",
      "Loan_ID                                                                      \n",
      "LP001002             5849                0.0       128.0             360.0   \n",
      "LP001003             4583             1508.0       128.0             360.0   \n",
      "LP001005             3000                0.0        66.0             360.0   \n",
      "LP001006             2583             2358.0       120.0             360.0   \n",
      "LP001008             6000                0.0       141.0             360.0   \n",
      "\n",
      "          Credit_History  Gender_Female  Gender_Male  Married_No  Married_Yes  \\\n",
      "Loan_ID                                                                         \n",
      "LP001002             1.0          False         True        True        False   \n",
      "LP001003             1.0          False         True       False         True   \n",
      "LP001005             1.0          False         True       False         True   \n",
      "LP001006             1.0          False         True       False         True   \n",
      "LP001008             1.0          False         True        True        False   \n",
      "\n",
      "          Dependents_0  ...  Dependents_2  Dependents_3+  Education_Graduate  \\\n",
      "Loan_ID                 ...                                                    \n",
      "LP001002          True  ...         False          False                True   \n",
      "LP001003         False  ...         False          False                True   \n",
      "LP001005          True  ...         False          False                True   \n",
      "LP001006          True  ...         False          False               False   \n",
      "LP001008          True  ...         False          False                True   \n",
      "\n",
      "          Education_Not Graduate  Self_Employed_No  Self_Employed_Yes  \\\n",
      "Loan_ID                                                                 \n",
      "LP001002                   False              True              False   \n",
      "LP001003                   False              True              False   \n",
      "LP001005                   False             False               True   \n",
      "LP001006                    True              True              False   \n",
      "LP001008                   False              True              False   \n",
      "\n",
      "          Property_Area_Rural  Property_Area_Semiurban  Property_Area_Urban  \\\n",
      "Loan_ID                                                                       \n",
      "LP001002                False                    False                 True   \n",
      "LP001003                 True                    False                False   \n",
      "LP001005                False                    False                 True   \n",
      "LP001006                False                    False                 True   \n",
      "LP001008                False                    False                 True   \n",
      "\n",
      "          Loan_Status  \n",
      "Loan_ID                \n",
      "LP001002           -1  \n",
      "LP001003           -1  \n",
      "LP001005           -1  \n",
      "LP001006           -1  \n",
      "LP001008           -1  \n",
      "\n",
      "[5 rows x 21 columns]\n"
     ]
    }
   ],
   "source": [
    "# get all columns which are not numeric and not the loan status\n",
    "categorical_features = [col for col in data.columns if not is_numeric_dtype(data[col]) and col != \"Loan_Status\"]\n",
    "data_with_dummies = pd.get_dummies(data, columns=categorical_features)\n",
    "\n",
    "# as a convention, I prefer to place the column to be predicted as the last one\n",
    "columns = data_with_dummies.columns.tolist()\n",
    "columns.insert(len(columns), columns.pop(columns.index(\"Loan_Status\")))\n",
    "data_with_dummies = data_with_dummies.loc[:, columns]\n",
    "\n",
    "# encoding the Loan_Status label\n",
    "data = data_with_dummies\n",
    "data.Loan_Status = data.Loan_Status.map(lambda x: 1 if x == \"Y\" else -1)\n",
    "\n",
    "print(data.head())"
   ]
  },
  {
   "cell_type": "markdown",
   "metadata": {},
   "source": [
    "### Building a predictive model"
   ]
  },
  {
   "cell_type": "code",
   "execution_count": 29,
   "metadata": {},
   "outputs": [
    {
     "name": "stdout",
     "output_type": "stream",
     "text": [
      "Training set shape: (491, 20)\n",
      "Test set shape (123, 20)\n"
     ]
    }
   ],
   "source": [
    "# from sklearn.metrics import SCORERS\n",
    "# import sklearn.metrics\n",
    "# from sklearn.feature_extraction import DictVectorizer as DV\n",
    "# from sklearn import tree\n",
    "# from sklearn.model_selection import KFold\n",
    "# from sklearn.model_selection import StratifiedKFold\n",
    "# from sklearn.model_selection import cross_val_score\n",
    "# from sklearn.model_selection import cross_validate\n",
    "# from sklearn.model_selection import train_test_split\n",
    "# from sklearn.model_selection import GridSearchCV\n",
    "# from sklearn.metrics import accuracy_score\n",
    "# from sklearn.metrics import roc_auc_score\n",
    "# from sklearn.metrics import classification_report\n",
    "# from sklearn.metrics import explained_variance_score\n",
    "# from sklearn.linear_model import LogisticRegression\n",
    "# from sklearn.svm import LinearSVC\n",
    "# from sklearn.svm import SVC\n",
    "# from sklearn.tree import DecisionTreeClassifier\n",
    "# from sklearn.tree import DecisionTreeRegressor\n",
    "# from sklearn.neighbors import KNeighborsRegressor\n",
    "# from sklearn.ensemble import RandomForestClassifier\n",
    "# from sklearn.ensemble import AdaBoostClassifier\n",
    "# from sklearn.ensemble import GradientBoostingClassifier\n",
    "# from sklearn.ensemble import RandomForestRegressor\n",
    "#from sklearn.externals import joblib\n",
    "\n",
    "# split the dataset into training and testing\n",
    "\n",
    "# extract the feature matrix from our original dataframe the feature matrix X\n",
    "# is composed of all the columns except \"Loan_Status\" (the target class label)\n",
    "X = data.iloc[:, :-1]\n",
    "\n",
    "# we want the extract the target class from column vector y\n",
    "y = data.Loan_Status\n",
    "\n",
    "from sklearn.model_selection import train_test_split\n",
    "X_train, X_test, y_train, y_test = train_test_split(X, y, test_size=0.2, random_state=43, stratify=y)\n",
    "\n",
    "print(f\"Training set shape: {X_train.shape}\")\n",
    "print(f\"Test set shape {X_test.shape}\")"
   ]
  },
  {
   "cell_type": "markdown",
   "metadata": {},
   "source": [
    "### Feature scaling: why/when"
   ]
  }
 ],
 "metadata": {
  "kernelspec": {
   "display_name": "Python 3",
   "language": "python",
   "name": "python3"
  },
  "language_info": {
   "codemirror_mode": {
    "name": "ipython",
    "version": 3
   },
   "file_extension": ".py",
   "mimetype": "text/x-python",
   "name": "python",
   "nbconvert_exporter": "python",
   "pygments_lexer": "ipython3",
   "version": "3.12.3"
  }
 },
 "nbformat": 4,
 "nbformat_minor": 2
}
