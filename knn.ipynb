{
 "cells": [
  {
   "cell_type": "markdown",
   "metadata": {},
   "source": [
    "# kNN - k Nearest Neighbor\n",
    "\n",
    "Imagine you meet a group of people, they are all very young, stylish and sportive. They talk about there friend Ben, who isn't with them. So, what is your imagination of Ben? Right, you imagine him as being yong, stylish and sportive as well.\n",
    "\n",
    "The principle behind **nearest neighbor classification** consists in finding a predefined number $k$ of training samples closest in distance to a new sample, which has to be classified.\n",
    "The label of the new sample will be defined from these neighbors.\n",
    "k-nearest neighbor classifiers have a fixed user defined constant for the number of neighbors which have to be determined.\n",
    "\n",
    "The distance can, in general, be any metric measure: standard Euclidean distance is the most common choice.\n",
    "\n",
    "The k-NN algorithm is among the simplest of all machine learning algorithms, but despite its simplicity, it has been quite successful in a large number of classification and regression problems, for example character recognition or image analysis.\n",
    "\n",
    "There is no general way to define an optimal value for $k$. This value depends on the data. As a general rule we can say that increasing $k$ reduces the noise but on the other hand makes the boundaries less distinct."
   ]
  },
  {
   "cell_type": "code",
   "execution_count": 74,
   "metadata": {},
   "outputs": [
    {
     "data": {
      "text/plain": [
       "<matplotlib.legend.Legend at 0x168fc50d0>"
      ]
     },
     "execution_count": 74,
     "metadata": {},
     "output_type": "execute_result"
    },
    {
     "data": {
      "image/png": "[encoded data removed]",
      "text/plain": [
       "<Figure size 640x480 with 1 Axes>"
      ]
     },
     "metadata": {},
     "output_type": "display_data"
    }
   ],
   "source": [
    "from sklearn.datasets import make_blobs\n",
    "import matplotlib.pyplot as plt\n",
    "import numpy as np\n",
    "\n",
    "# this dataset can work well also with a perceptron\n",
    "# centers = [[2, 3], [5, 5], [1, 8]]\n",
    "\n",
    "# this other dataset would perform bad with a perceptron, but works well with kNN\n",
    "centers = [[3, 3], [5, 5], [1, 3]]\n",
    "n_classes = len(centers)\n",
    "data, labels = make_blobs(n_samples=150, \n",
    "                          centers=np.array(centers),\n",
    "                          random_state=1\n",
    "                          )\n",
    "\n",
    "colours = ('green', 'red', 'blue')\n",
    "\n",
    "# visualization of the created dataset\n",
    "fig, ax = plt.subplots()\n",
    "for n_class in range(0, n_classes):\n",
    "    ax.scatter(data[labels==n_class, 0], data[labels==n_class, 1], \n",
    "               c=colours[n_class], s=10, label=str(n_class))\n",
    "ax.legend(loc='upper right')"
   ]
  },
  {
   "cell_type": "markdown",
   "metadata": {},
   "source": [
    "### create and fit a nearest-neighbor classifier"
   ]
  },
  {
   "cell_type": "code",
   "execution_count": 75,
   "metadata": {},
   "outputs": [
    {
     "name": "stdout",
     "output_type": "stream",
     "text": [
      "Predictions from the classifier:\n",
      "[2 0 2 0 2 2 0 1 2 0 0 2 1 0 0 2 1 1 0 0 1 0 0 0 0 0 2 1 1 0]\n",
      "Target values:\n",
      "[2 0 2 0 2 2 0 1 2 0 0 2 1 0 0 2 1 1 0 0 1 0 0 0 0 0 0 1 1 0]\n"
     ]
    }
   ],
   "source": [
    "from sklearn.model_selection import train_test_split\n",
    "\n",
    "train_data, test_data, train_labels, test_labels = train_test_split(\n",
    "    data,\n",
    "    labels,\n",
    "    train_size=0.8,\n",
    "    test_size=0.2,\n",
    "    # random_state=1\n",
    ")\n",
    "\n",
    "from sklearn.neighbors import KNeighborsClassifier\n",
    "\n",
    "# choose the model, default k is 5\n",
    "knn = KNeighborsClassifier()\n",
    "# train the model\n",
    "knn.fit(train_data, train_labels)\n",
    "\n",
    "predicted = knn.predict(test_data)\n",
    "print(\"Predictions from the classifier:\")\n",
    "print(predicted)\n",
    "print(\"Target values:\")\n",
    "print(test_labels)"
   ]
  },
  {
   "cell_type": "markdown",
   "metadata": {},
   "source": [
    "### evaluate the result"
   ]
  },
  {
   "cell_type": "code",
   "execution_count": 76,
   "metadata": {},
   "outputs": [
    {
     "name": "stdout",
     "output_type": "stream",
     "text": [
      "              precision    recall  f1-score   support\n",
      "\n",
      "           0       0.94      1.00      0.97        15\n",
      "           1       1.00      1.00      1.00         7\n",
      "           2       1.00      0.88      0.93         8\n",
      "\n",
      "    accuracy                           0.97        30\n",
      "   macro avg       0.98      0.96      0.97        30\n",
      "weighted avg       0.97      0.97      0.97        30\n",
      "\n"
     ]
    }
   ],
   "source": [
    "# from sklearn.metrics import accuracy_score\n",
    "# print(accuracy_score(predicted, test_labels))\n",
    "from sklearn.metrics import classification_report\n",
    "print(classification_report(predicted, test_labels))"
   ]
  }
 ],
 "metadata": {
  "kernelspec": {
   "display_name": "Python 3",
   "language": "python",
   "name": "python3"
  },
  "language_info": {
   "codemirror_mode": {
    "name": "ipython",
    "version": 3
   },
   "file_extension": ".py",
   "mimetype": "text/x-python",
   "name": "python",
   "nbconvert_exporter": "python",
   "pygments_lexer": "ipython3",
   "version": "3.12.3"
  }
 },
 "nbformat": 4,
 "nbformat_minor": 2
}
